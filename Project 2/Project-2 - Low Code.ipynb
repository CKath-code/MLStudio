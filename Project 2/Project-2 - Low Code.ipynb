{
 "cells": [
  {
   "cell_type": "markdown",
   "metadata": {
    "nteract": {
     "transient": {
      "deleting": false
     }
    }
   },
   "source": [
    "# **Project 2**"
   ]
  },
  {
   "cell_type": "markdown",
   "metadata": {},
   "source": [
    "## **Business Use Case**"
   ]
  },
  {
   "cell_type": "markdown",
   "metadata": {},
   "source": [
    "### **Problem Statement:**"
   ]
  },
  {
   "cell_type": "markdown",
   "metadata": {},
   "source": [
    "In the fast-paced environment of healthcare centers, healthcare professionals often face the challenge of quick and accurate diagnosis of patients while managing an ever-increasing volume of medical information. Ensuring that healthcare providers have access to the latest and most comprehensive medical knowledge is crucial for improving patient outcomes and reducing the time needed to make informed decisions.\n",
    "\n",
    "There are multiple challenges that these professionals encounter daily, a few being\n",
    "\n",
    "- Information Overload: Medical professionals need to go through vast amounts of data and research to make accurate diagnoses and treatment plans. This can be overwhelming and time-consuming.\n",
    "- Efficiency: For overall patient care and quality health outcomes, quick and accurate diagnosis is vital, especially in emergency situations.\n",
    "- Access to Trusted Knowledge: In the ever-evolving healthcare industry, providing access to reliable and up-to-date medical information from renowned manuals and research papers is essential for maintaining high standards of care.\n"
   ]
  },
  {
   "cell_type": "markdown",
   "metadata": {},
   "source": [
    "### **Objective:**"
   ]
  },
  {
   "cell_type": "markdown",
   "metadata": {},
   "source": [
    "A renowned chain of hospitals has decided to leverage AI to build a state-of-the-art solution to help healthcare professionals overcome the aforementioned challenges. They have recruited you as an AI specialist and tasked you with building a RAG-based AI solution that leverages renowned medical manuals as its knowledge base. This AI system will act as a POC towards an end product that’ll assist healthcare professionals in making better, quicker, and more accurate diagnoses, ultimately leading to faster patient resolutions and enabling better patient outcomes by reducing errors in diagnosis, saving valuable time for information retrieval, and standardizing care practices across the board."
   ]
  },
  {
   "cell_type": "markdown",
   "metadata": {},
   "source": [
    "### **Questions:**"
   ]
  },
  {
   "cell_type": "markdown",
   "metadata": {},
   "source": [
    "**1. Diagnostic Assistance**: \"What are the common symptoms and treatments for pulmonary embolism?\"\n",
    "\n",
    "**2. Drug Information**: \"Can you provide the trade names of medications used for treating hypertension?\"\n",
    "\n",
    "**3. Treatment Plans**: \"What are the first-line options and alternatives for managing rheumatoid arthritis?\"\n",
    "\n",
    "**4. Specialty Knowledge**: \"What are the diagnostic steps for suspected endocrine disorders?\"\n",
    "\n",
    "**5. Critical Care Protocols**: \"What is the protocol for managing sepsis in a critical care unit?\""
   ]
  },
  {
   "cell_type": "markdown",
   "metadata": {},
   "source": [
    "### **How This Application Empowers Professionals and Elevates Healthcare Organizations**"
   ]
  },
  {
   "cell_type": "markdown",
   "metadata": {},
   "source": [
    "- **Enhanced Diagnostic Accuracy:**\n",
    "Provides evidence-based insights for better diagnosis and treatment.\n",
    "\n",
    "- **Time Efficiency:**\n",
    "Instantly retrieves critical information, saving valuable time.\n",
    "\n",
    "- **Improved Patient Care:**\n",
    "Ensures informed decisions with up-to-date medical knowledge.\n",
    "\n",
    "- **Cost-Effective Operations:**\n",
    "Reduces redundant tests and consultation delays, lowering costs.\n",
    "\n",
    "- **Knowledge Empowerment:**\n",
    "Keeps doctors updated on the latest advancements.\n",
    "\n",
    "- **Competitive Edge for the Hospital:**\n",
    "Positions the hospital as a leader in healthcare innovation.\n",
    "\n",
    "This collaboration between St. Bernard’s Medical Center and InnoviTech Solutions highlights the transformative potential of AI in revolutionizing healthcare."
   ]
  },
  {
   "cell_type": "markdown",
   "metadata": {},
   "source": [
    "## **1. Install and Import Required Libraries**"
   ]
  },
  {
   "cell_type": "code",
   "execution_count": 6,
   "metadata": {
    "gather": {
     "logged": 1749230634020
    }
   },
   "outputs": [
    {
     "name": "stderr",
     "output_type": "stream",
     "text": [
      "Overriding of current TracerProvider is not allowed\n",
      "Overriding of current LoggerProvider is not allowed\n",
      "Overriding of current MeterProvider is not allowed\n",
      "Attempting to instrument while already instrumented\n",
      "Attempting to instrument while already instrumented\n",
      "Attempting to instrument while already instrumented\n",
      "Attempting to instrument while already instrumented\n",
      "Attempting to instrument while already instrumented\n"
     ]
    },
    {
     "name": "stdout",
     "output_type": "stream",
     "text": [
      "Registered environment: denv\n"
     ]
    }
   ],
   "source": [
    "from azure.ai.ml import MLClient\n",
    "from azure.ai.ml.entities import Environment\n",
    "from azure.identity import DefaultAzureCredential\n",
    "\n",
    "# Step 1: Authenticate\n",
    "credential = DefaultAzureCredential()\n",
    "from azure.identity import InteractiveBrowserCredential\n",
    "ml_client = MLClient(\n",
    "    DefaultAzureCredential(),\n",
    "    subscription_id=\"f7694127-2f65-4c53-aaef-a2750f7337d3\",\n",
    "    resource_group_name=\"defalt_resource_group\",\n",
    "    workspace_name=\"FitwellWorkspace\"\n",
    ")\n",
    "\n",
    "# Step 2: Define environment\n",
    "env_name = \"denv\"\n",
    "\n",
    "custom_env = Environment(\n",
    "    name=env_name,\n",
    "    description=\"Custom environment with azureml-rag\",\n",
    "    image=\"mcr.microsoft.com/azureml/openmpi4.1.0-ubuntu20.04:20231010.v1\",  # Compatible base image\n",
    "    conda_file={\n",
    "        \"name\": env_name,\n",
    "        \"channels\": [\"defaults\"],\n",
    "        \"dependencies\": [\n",
    "            \"python=3.10\",\n",
    "            \"pip\",\n",
    "            {\n",
    "                \"pip\": [\n",
    "                    \"azureml-rag\",\n",
    "                    \"azureml-rag[faiss,hugging_face]>=0.2.36\",\n",
    "                    \"azure-ai-ml\"\n",
    "                ]\n",
    "            }\n",
    "        ],\n",
    "    },\n",
    ")\n",
    "\n",
    "# Step 3: Register the environment\n",
    "ml_client.environments.create_or_update(custom_env)\n",
    "print(f\"Registered environment: {env_name}\")\n"
   ]
  },
  {
   "cell_type": "code",
   "execution_count": 32,
   "metadata": {},
   "outputs": [
    {
     "name": "stdout",
     "output_type": "stream",
     "text": [
      "\n",
      "CondaError: Run 'conda init' before 'conda deactivate'\n",
      "\n",
      "Channels:\n",
      " - defaults\n",
      "Platform: linux-64\n",
      "Collecting package metadata (repodata.json): - \b\b\\ \b\b| \b\b/ \b\b- \b\b\\ \b\bdone\n",
      "Solving environment: / \b\bdone\n",
      "\n",
      "\n",
      "==> WARNING: A newer version of conda exists. <==\n",
      "    current version: 25.3.1\n",
      "    latest version: 25.5.1\n",
      "\n",
      "Please update conda by running\n",
      "\n",
      "    $ conda update -n base -c defaults conda\n",
      "\n",
      "\n",
      "\n",
      "## Package Plan ##\n",
      "\n",
      "  environment location: /anaconda/envs/my_rag_env\n",
      "\n",
      "  added / updated specs:\n",
      "    - python=3.10\n",
      "\n",
      "\n",
      "The following NEW packages will be INSTALLED:\n",
      "\n",
      "  _libgcc_mutex      pkgs/main/linux-64::_libgcc_mutex-0.1-main \n",
      "  _openmp_mutex      pkgs/main/linux-64::_openmp_mutex-5.1-1_gnu \n",
      "  bzip2              pkgs/main/linux-64::bzip2-1.0.8-h5eee18b_6 \n",
      "  ca-certificates    pkgs/main/linux-64::ca-certificates-2025.2.25-h06a4308_0 \n",
      "  expat              pkgs/main/linux-64::expat-2.7.1-h6a678d5_0 \n",
      "  ld_impl_linux-64   pkgs/main/linux-64::ld_impl_linux-64-2.40-h12ee557_0 \n",
      "  libffi             pkgs/main/linux-64::libffi-3.4.4-h6a678d5_1 \n",
      "  libgcc-ng          pkgs/main/linux-64::libgcc-ng-11.2.0-h1234567_1 \n",
      "  libgomp            pkgs/main/linux-64::libgomp-11.2.0-h1234567_1 \n",
      "  libstdcxx-ng       pkgs/main/linux-64::libstdcxx-ng-11.2.0-h1234567_1 \n",
      "  libuuid            pkgs/main/linux-64::libuuid-1.41.5-h5eee18b_0 \n",
      "  libxcb             pkgs/main/linux-64::libxcb-1.17.0-h9b100fa_0 \n",
      "  ncurses            pkgs/main/linux-64::ncurses-6.4-h6a678d5_0 \n",
      "  openssl            pkgs/main/linux-64::openssl-3.0.16-h5eee18b_0 \n",
      "  pip                pkgs/main/noarch::pip-25.1-pyhc872135_2 \n",
      "  pthread-stubs      pkgs/main/linux-64::pthread-stubs-0.3-h0ce48e5_1 \n",
      "  python             pkgs/main/linux-64::python-3.10.18-h1a3bd86_0 \n",
      "  readline           pkgs/main/linux-64::readline-8.2-h5eee18b_0 \n",
      "  setuptools         pkgs/main/linux-64::setuptools-78.1.1-py310h06a4308_0 \n",
      "  sqlite             pkgs/main/linux-64::sqlite-3.45.3-h5eee18b_0 \n",
      "  tk                 pkgs/main/linux-64::tk-8.6.14-h993c535_1 \n",
      "  tzdata             pkgs/main/noarch::tzdata-2025b-h04d1e81_0 \n",
      "  wheel              pkgs/main/linux-64::wheel-0.45.1-py310h06a4308_0 \n",
      "  xorg-libx11        pkgs/main/linux-64::xorg-libx11-1.8.12-h9b100fa_1 \n",
      "  xorg-libxau        pkgs/main/linux-64::xorg-libxau-1.0.12-h9b100fa_0 \n",
      "  xorg-libxdmcp      pkgs/main/linux-64::xorg-libxdmcp-1.1.5-h9b100fa_0 \n",
      "  xorg-xorgproto     pkgs/main/linux-64::xorg-xorgproto-2024.1-h5eee18b_1 \n",
      "  xz                 pkgs/main/linux-64::xz-5.6.4-h5eee18b_1 \n",
      "  zlib               pkgs/main/linux-64::zlib-1.2.13-h5eee18b_1 \n",
      "\n",
      "\n",
      "\n",
      "Downloading and Extracting Packages:\n",
      "\n",
      "Preparing transaction: - \b\b\\ \b\bdone\n",
      "Verifying transaction: / \b\b- \b\b\\ \b\b| \b\b/ \b\b- \b\b\\ \b\b| \b\b/ \b\b- \b\b\\ \b\b| \b\b/ \b\bdone\n",
      "Executing transaction: \\ \b\b| \b\b/ \b\b- \b\b\\ \b\b| \b\b/ \b\b- \b\b\\ \b\b| \b\b/ \b\b- \b\b\\ \b\b| \b\b/ \b\b- \b\b\\ \b\b| \b\b/ \b\b- \b\b\\ \b\b| \b\bdone\n",
      "#\n",
      "# To activate this environment, use\n",
      "#\n",
      "#     $ conda activate my_rag_env\n",
      "#\n",
      "# To deactivate an active environment, use\n",
      "#\n",
      "#     $ conda deactivate\n",
      "\n",
      "\n",
      "CondaError: Run 'conda init' before 'conda activate'\n",
      "\n",
      "\n",
      "Usage:   \n",
      "  pip install [options] <requirement specifier> [package-index-options] ...\n",
      "  pip install [options] -r <requirements file> [package-index-options] ...\n",
      "  pip install [options] [-e] <vcs project url> ...\n",
      "  pip install [options] [-e] <local project path> ...\n",
      "  pip install [options] <archive url/path> ...\n",
      "\n",
      "no such option: -y\n",
      "Requirement already satisfied: azure-ai-ml in /anaconda/envs/azureml_py38/lib/python3.10/site-packages (1.27.1)\n",
      "Requirement already satisfied: azure-mgmt-core>=1.3.0 in /anaconda/envs/azureml_py38/lib/python3.10/site-packages (from azure-ai-ml) (1.5.0)\n",
      "Requirement already satisfied: jsonschema<5.0.0,>=4.0.0 in /anaconda/envs/azureml_py38/lib/python3.10/site-packages (from azure-ai-ml) (4.23.0)\n",
      "Requirement already satisfied: colorama<1.0.0 in /anaconda/envs/azureml_py38/lib/python3.10/site-packages (from azure-ai-ml) (0.4.6)\n",
      "Requirement already satisfied: strictyaml<2.0.0 in /anaconda/envs/azureml_py38/lib/python3.10/site-packages (from azure-ai-ml) (1.7.3)\n",
      "Requirement already satisfied: azure-common>=1.1 in /anaconda/envs/azureml_py38/lib/python3.10/site-packages (from azure-ai-ml) (1.1.28)\n",
      "Requirement already satisfied: isodate<1.0.0 in /anaconda/envs/azureml_py38/lib/python3.10/site-packages (from azure-ai-ml) (0.7.2)\n",
      "Requirement already satisfied: marshmallow<4.0.0,>=3.5 in /anaconda/envs/azureml_py38/lib/python3.10/site-packages (from azure-ai-ml) (3.26.1)\n",
      "Requirement already satisfied: azure-storage-file-datalake>=12.2.0 in /anaconda/envs/azureml_py38/lib/python3.10/site-packages (from azure-ai-ml) (12.20.0)\n",
      "Requirement already satisfied: azure-core>=1.23.0 in /anaconda/envs/azureml_py38/lib/python3.10/site-packages (from azure-ai-ml) (1.33.0)\n",
      "Requirement already satisfied: azure-monitor-opentelemetry in /anaconda/envs/azureml_py38/lib/python3.10/site-packages (from azure-ai-ml) (1.6.10)\n",
      "Requirement already satisfied: pyjwt<3.0.0 in /anaconda/envs/azureml_py38/lib/python3.10/site-packages (from azure-ai-ml) (2.4.0)\n",
      "Requirement already satisfied: pydash<9.0.0,>=6.0.0 in /anaconda/envs/azureml_py38/lib/python3.10/site-packages (from azure-ai-ml) (8.0.5)\n",
      "Requirement already satisfied: six>=1.11.0 in /anaconda/envs/azureml_py38/lib/python3.10/site-packages (from azure-ai-ml) (1.17.0)\n",
      "Requirement already satisfied: azure-storage-blob>=12.10.0 in /anaconda/envs/azureml_py38/lib/python3.10/site-packages (from azure-ai-ml) (12.19.0)\n",
      "Requirement already satisfied: tqdm<5.0.0 in /anaconda/envs/azureml_py38/lib/python3.10/site-packages (from azure-ai-ml) (4.67.1)\n",
      "Requirement already satisfied: typing-extensions<5.0.0 in /anaconda/envs/azureml_py38/lib/python3.10/site-packages (from azure-ai-ml) (4.13.2)\n",
      "Requirement already satisfied: msrest<1.0.0,>=0.6.18 in /anaconda/envs/azureml_py38/lib/python3.10/site-packages (from azure-ai-ml) (0.7.1)\n",
      "Requirement already satisfied: pyyaml<7.0.0,>=5.1.0 in /anaconda/envs/azureml_py38/lib/python3.10/site-packages (from azure-ai-ml) (6.0.2)\n",
      "Requirement already satisfied: azure-storage-file-share in /anaconda/envs/azureml_py38/lib/python3.10/site-packages (from azure-ai-ml) (12.21.0)\n",
      "Requirement already satisfied: requests>=2.21.0 in /anaconda/envs/azureml_py38/lib/python3.10/site-packages (from azure-core>=1.23.0->azure-ai-ml) (2.32.3)\n",
      "Requirement already satisfied: cryptography>=2.1.4 in /anaconda/envs/azureml_py38/lib/python3.10/site-packages (from azure-storage-blob>=12.10.0->azure-ai-ml) (38.0.4)\n",
      "Collecting azure-storage-blob>=12.10.0\n",
      "  Using cached azure_storage_blob-12.25.1-py3-none-any.whl (406 kB)\n",
      "Requirement already satisfied: attrs>=22.2.0 in /anaconda/envs/azureml_py38/lib/python3.10/site-packages (from jsonschema<5.0.0,>=4.0.0->azure-ai-ml) (25.3.0)\n",
      "Requirement already satisfied: jsonschema-specifications>=2023.03.6 in /anaconda/envs/azureml_py38/lib/python3.10/site-packages (from jsonschema<5.0.0,>=4.0.0->azure-ai-ml) (2024.10.1)\n",
      "Requirement already satisfied: referencing>=0.28.4 in /anaconda/envs/azureml_py38/lib/python3.10/site-packages (from jsonschema<5.0.0,>=4.0.0->azure-ai-ml) (0.36.2)\n",
      "Requirement already satisfied: rpds-py>=0.7.1 in /anaconda/envs/azureml_py38/lib/python3.10/site-packages (from jsonschema<5.0.0,>=4.0.0->azure-ai-ml) (0.19.1)\n",
      "Requirement already satisfied: packaging>=17.0 in /anaconda/envs/azureml_py38/lib/python3.10/site-packages (from marshmallow<4.0.0,>=3.5->azure-ai-ml) (24.2)\n",
      "Requirement already satisfied: certifi>=2017.4.17 in /anaconda/envs/azureml_py38/lib/python3.10/site-packages (from msrest<1.0.0,>=0.6.18->azure-ai-ml) (2025.1.31)\n",
      "Requirement already satisfied: requests-oauthlib>=0.5.0 in /anaconda/envs/azureml_py38/lib/python3.10/site-packages (from msrest<1.0.0,>=0.6.18->azure-ai-ml) (2.0.0)\n",
      "Requirement already satisfied: python-dateutil>=2.6.0 in /anaconda/envs/azureml_py38/lib/python3.10/site-packages (from strictyaml<2.0.0->azure-ai-ml) (2.9.0.post0)\n",
      "Requirement already satisfied: opentelemetry-instrumentation-flask<0.53b0,>=0.49b0 in /anaconda/envs/azureml_py38/lib/python3.10/site-packages (from azure-monitor-opentelemetry->azure-ai-ml) (0.52b1)\n",
      "Requirement already satisfied: azure-monitor-opentelemetry-exporter~=1.0.0b31 in /anaconda/envs/azureml_py38/lib/python3.10/site-packages (from azure-monitor-opentelemetry->azure-ai-ml) (1.0.0b37)\n",
      "Requirement already satisfied: opentelemetry-sdk<1.32,>=1.28.0 in /anaconda/envs/azureml_py38/lib/python3.10/site-packages (from azure-monitor-opentelemetry->azure-ai-ml) (1.31.1)\n",
      "Requirement already satisfied: opentelemetry-instrumentation-urllib3<0.53b0,>=0.49b0 in /anaconda/envs/azureml_py38/lib/python3.10/site-packages (from azure-monitor-opentelemetry->azure-ai-ml) (0.52b1)\n",
      "Requirement already satisfied: opentelemetry-instrumentation-requests<0.53b0,>=0.49b0 in /anaconda/envs/azureml_py38/lib/python3.10/site-packages (from azure-monitor-opentelemetry->azure-ai-ml) (0.52b1)\n",
      "Requirement already satisfied: opentelemetry-instrumentation-urllib<0.53b0,>=0.49b0 in /anaconda/envs/azureml_py38/lib/python3.10/site-packages (from azure-monitor-opentelemetry->azure-ai-ml) (0.52b1)\n",
      "Requirement already satisfied: opentelemetry-resource-detector-azure~=0.1.4 in /anaconda/envs/azureml_py38/lib/python3.10/site-packages (from azure-monitor-opentelemetry->azure-ai-ml) (0.1.5)\n",
      "Requirement already satisfied: opentelemetry-instrumentation-fastapi<0.53b0,>=0.49b0 in /anaconda/envs/azureml_py38/lib/python3.10/site-packages (from azure-monitor-opentelemetry->azure-ai-ml) (0.52b1)\n",
      "Requirement already satisfied: opentelemetry-instrumentation-psycopg2<0.53b0,>=0.49b0 in /anaconda/envs/azureml_py38/lib/python3.10/site-packages (from azure-monitor-opentelemetry->azure-ai-ml) (0.52b1)\n",
      "Requirement already satisfied: opentelemetry-instrumentation-django<0.53b0,>=0.49b0 in /anaconda/envs/azureml_py38/lib/python3.10/site-packages (from azure-monitor-opentelemetry->azure-ai-ml) (0.52b1)\n",
      "Requirement already satisfied: azure-core-tracing-opentelemetry~=1.0.0b11 in /anaconda/envs/azureml_py38/lib/python3.10/site-packages (from azure-monitor-opentelemetry->azure-ai-ml) (1.0.0b12)\n",
      "Requirement already satisfied: opentelemetry-api>=1.12.0 in /anaconda/envs/azureml_py38/lib/python3.10/site-packages (from azure-core-tracing-opentelemetry~=1.0.0b11->azure-monitor-opentelemetry->azure-ai-ml) (1.31.1)\n",
      "Requirement already satisfied: azure-identity~=1.17 in /anaconda/envs/azureml_py38/lib/python3.10/site-packages (from azure-monitor-opentelemetry-exporter~=1.0.0b31->azure-monitor-opentelemetry->azure-ai-ml) (1.21.0)\n",
      "Requirement already satisfied: psutil<8,>=5.9 in /anaconda/envs/azureml_py38/lib/python3.10/site-packages (from azure-monitor-opentelemetry-exporter~=1.0.0b31->azure-monitor-opentelemetry->azure-ai-ml) (7.0.0)\n",
      "Requirement already satisfied: fixedint==0.1.6 in /anaconda/envs/azureml_py38/lib/python3.10/site-packages (from azure-monitor-opentelemetry-exporter~=1.0.0b31->azure-monitor-opentelemetry->azure-ai-ml) (0.1.6)\n",
      "Requirement already satisfied: cffi>=1.12 in /anaconda/envs/azureml_py38/lib/python3.10/site-packages (from cryptography>=2.1.4->azure-storage-blob>=12.10.0->azure-ai-ml) (1.17.1)\n",
      "Requirement already satisfied: opentelemetry-instrumentation-wsgi==0.52b1 in /anaconda/envs/azureml_py38/lib/python3.10/site-packages (from opentelemetry-instrumentation-django<0.53b0,>=0.49b0->azure-monitor-opentelemetry->azure-ai-ml) (0.52b1)\n",
      "Requirement already satisfied: opentelemetry-util-http==0.52b1 in /anaconda/envs/azureml_py38/lib/python3.10/site-packages (from opentelemetry-instrumentation-django<0.53b0,>=0.49b0->azure-monitor-opentelemetry->azure-ai-ml) (0.52b1)\n",
      "Requirement already satisfied: opentelemetry-semantic-conventions==0.52b1 in /anaconda/envs/azureml_py38/lib/python3.10/site-packages (from opentelemetry-instrumentation-django<0.53b0,>=0.49b0->azure-monitor-opentelemetry->azure-ai-ml) (0.52b1)\n",
      "Requirement already satisfied: opentelemetry-instrumentation==0.52b1 in /anaconda/envs/azureml_py38/lib/python3.10/site-packages (from opentelemetry-instrumentation-django<0.53b0,>=0.49b0->azure-monitor-opentelemetry->azure-ai-ml) (0.52b1)\n",
      "Requirement already satisfied: wrapt<2.0.0,>=1.0.0 in /anaconda/envs/azureml_py38/lib/python3.10/site-packages (from opentelemetry-instrumentation==0.52b1->opentelemetry-instrumentation-django<0.53b0,>=0.49b0->azure-monitor-opentelemetry->azure-ai-ml) (1.14.1)\n",
      "Requirement already satisfied: deprecated>=1.2.6 in /anaconda/envs/azureml_py38/lib/python3.10/site-packages (from opentelemetry-semantic-conventions==0.52b1->opentelemetry-instrumentation-django<0.53b0,>=0.49b0->azure-monitor-opentelemetry->azure-ai-ml) (1.2.18)\n",
      "Requirement already satisfied: importlib-metadata<8.7.0,>=6.0 in /anaconda/envs/azureml_py38/lib/python3.10/site-packages (from opentelemetry-api>=1.12.0->azure-core-tracing-opentelemetry~=1.0.0b11->azure-monitor-opentelemetry->azure-ai-ml) (8.2.0)\n",
      "Requirement already satisfied: opentelemetry-instrumentation-asgi==0.52b1 in /anaconda/envs/azureml_py38/lib/python3.10/site-packages (from opentelemetry-instrumentation-fastapi<0.53b0,>=0.49b0->azure-monitor-opentelemetry->azure-ai-ml) (0.52b1)\n",
      "Requirement already satisfied: asgiref~=3.0 in /anaconda/envs/azureml_py38/lib/python3.10/site-packages (from opentelemetry-instrumentation-asgi==0.52b1->opentelemetry-instrumentation-fastapi<0.53b0,>=0.49b0->azure-monitor-opentelemetry->azure-ai-ml) (3.8.1)\n",
      "Requirement already satisfied: opentelemetry-instrumentation-dbapi==0.52b1 in /anaconda/envs/azureml_py38/lib/python3.10/site-packages (from opentelemetry-instrumentation-psycopg2<0.53b0,>=0.49b0->azure-monitor-opentelemetry->azure-ai-ml) (0.52b1)\n",
      "Requirement already satisfied: charset-normalizer<4,>=2 in /anaconda/envs/azureml_py38/lib/python3.10/site-packages (from requests>=2.21.0->azure-core>=1.23.0->azure-ai-ml) (3.4.1)\n",
      "Requirement already satisfied: idna<4,>=2.5 in /anaconda/envs/azureml_py38/lib/python3.10/site-packages (from requests>=2.21.0->azure-core>=1.23.0->azure-ai-ml) (3.10)\n",
      "Requirement already satisfied: urllib3<3,>=1.21.1 in /anaconda/envs/azureml_py38/lib/python3.10/site-packages (from requests>=2.21.0->azure-core>=1.23.0->azure-ai-ml) (1.26.20)\n",
      "Requirement already satisfied: oauthlib>=3.0.0 in /anaconda/envs/azureml_py38/lib/python3.10/site-packages (from requests-oauthlib>=0.5.0->msrest<1.0.0,>=0.6.18->azure-ai-ml) (3.2.2)\n",
      "Requirement already satisfied: msal-extensions>=1.2.0 in /anaconda/envs/azureml_py38/lib/python3.10/site-packages (from azure-identity~=1.17->azure-monitor-opentelemetry-exporter~=1.0.0b31->azure-monitor-opentelemetry->azure-ai-ml) (1.2.0)\n",
      "Requirement already satisfied: msal>=1.30.0 in /anaconda/envs/azureml_py38/lib/python3.10/site-packages (from azure-identity~=1.17->azure-monitor-opentelemetry-exporter~=1.0.0b31->azure-monitor-opentelemetry->azure-ai-ml) (1.31.2b1)\n",
      "Requirement already satisfied: pycparser in /anaconda/envs/azureml_py38/lib/python3.10/site-packages (from cffi>=1.12->cryptography>=2.1.4->azure-storage-blob>=12.10.0->azure-ai-ml) (2.22)\n",
      "Requirement already satisfied: zipp>=0.5 in /anaconda/envs/azureml_py38/lib/python3.10/site-packages (from importlib-metadata<8.7.0,>=6.0->opentelemetry-api>=1.12.0->azure-core-tracing-opentelemetry~=1.0.0b11->azure-monitor-opentelemetry->azure-ai-ml) (3.19.2)\n",
      "Requirement already satisfied: portalocker<3,>=1.4 in /anaconda/envs/azureml_py38/lib/python3.10/site-packages (from msal-extensions>=1.2.0->azure-identity~=1.17->azure-monitor-opentelemetry-exporter~=1.0.0b31->azure-monitor-opentelemetry->azure-ai-ml) (2.10.1)\n",
      "Installing collected packages: azure-storage-blob\n",
      "  Attempting uninstall: azure-storage-blob\n",
      "    Found existing installation: azure-storage-blob 12.19.0\n",
      "    Uninstalling azure-storage-blob-12.19.0:\n",
      "      Successfully uninstalled azure-storage-blob-12.19.0\n",
      "\u001b[31mERROR: pip's dependency resolver does not currently take into account all the packages that are installed. This behaviour is the source of the following dependency conflicts.\n",
      "azureml-mlflow 1.60.0 requires azure-storage-blob<=12.19.0,>=12.5.0, but you have azure-storage-blob 12.25.1 which is incompatible.\n",
      "adlfs 2024.12.0 requires fsspec>=2023.12.0, but you have fsspec 2023.10.0 which is incompatible.\u001b[0m\u001b[31m\n",
      "\u001b[0mSuccessfully installed azure-storage-blob-12.25.1\n",
      "Collecting azureml-rag[faiss,hugging_face]>=0.2.36\n",
      "  Using cached azureml_rag-0.2.39-py3-none-any.whl (4.2 MB)\n",
      "\u001b[33mWARNING: azureml-rag 0.2.39 does not provide the extra 'hugging_face'\u001b[0m\u001b[33m\n",
      "\u001b[0mRequirement already satisfied: mmh3 in /anaconda/envs/azureml_py38/lib/python3.10/site-packages (from azureml-rag[faiss,hugging_face]>=0.2.36) (5.1.0)\n",
      "Collecting azureml-dataprep[parquet]>=5.1\n",
      "  Using cached azureml_dataprep-5.3.3-py3-none-any.whl (252 kB)\n",
      "Collecting tiktoken<1.0,>=0.7\n",
      "  Using cached tiktoken-0.9.0-cp310-cp310-manylinux_2_17_x86_64.manylinux2014_x86_64.whl (1.2 MB)\n",
      "Requirement already satisfied: pyyaml<7.0.0,>=5.1.0 in /anaconda/envs/azureml_py38/lib/python3.10/site-packages (from azureml-rag[faiss,hugging_face]>=0.2.36) (6.0.2)\n",
      "Requirement already satisfied: requests in /anaconda/envs/azureml_py38/lib/python3.10/site-packages (from azureml-rag[faiss,hugging_face]>=0.2.36) (2.32.3)\n",
      "Requirement already satisfied: azureml-fsspec in /anaconda/envs/azureml_py38/lib/python3.10/site-packages (from azureml-rag[faiss,hugging_face]>=0.2.36) (1.1.1)\n",
      "Requirement already satisfied: cloudpickle in /anaconda/envs/azureml_py38/lib/python3.10/site-packages (from azureml-rag[faiss,hugging_face]>=0.2.36) (1.6.0)\n",
      "Requirement already satisfied: azureml-core~=1.60 in /anaconda/envs/azureml_py38/lib/python3.10/site-packages (from azureml-rag[faiss,hugging_face]>=0.2.36) (1.60.0)\n",
      "Requirement already satisfied: openai>=0.27.8 in /anaconda/envs/azureml_py38/lib/python3.10/site-packages (from azureml-rag[faiss,hugging_face]>=0.2.36) (0.27.10)\n",
      "Requirement already satisfied: fsspec~=2023.3 in /anaconda/envs/azureml_py38/lib/python3.10/site-packages (from azureml-rag[faiss,hugging_face]>=0.2.36) (2023.10.0)\n",
      "Requirement already satisfied: faiss-cpu in /anaconda/envs/azureml_py38/lib/python3.10/site-packages (from azureml-rag[faiss,hugging_face]>=0.2.36) (1.11.0)\n",
      "Requirement already satisfied: humanfriendly<11.0,>=4.7 in /anaconda/envs/azureml_py38/lib/python3.10/site-packages (from azureml-core~=1.60->azureml-rag[faiss,hugging_face]>=0.2.36) (10.0)\n",
      "Requirement already satisfied: pathspec<1.0.0 in /anaconda/envs/azureml_py38/lib/python3.10/site-packages (from azureml-core~=1.60->azureml-rag[faiss,hugging_face]>=0.2.36) (0.12.1)\n",
      "Requirement already satisfied: argcomplete<4 in /anaconda/envs/azureml_py38/lib/python3.10/site-packages (from azureml-core~=1.60->azureml-rag[faiss,hugging_face]>=0.2.36) (3.5.3)\n",
      "Requirement already satisfied: adal<=1.2.7,>=1.2.0 in /anaconda/envs/azureml_py38/lib/python3.10/site-packages (from azureml-core~=1.60->azureml-rag[faiss,hugging_face]>=0.2.36) (1.2.7)\n",
      "Requirement already satisfied: pytz in /anaconda/envs/azureml_py38/lib/python3.10/site-packages (from azureml-core~=1.60->azureml-rag[faiss,hugging_face]>=0.2.36) (2022.5)\n",
      "Requirement already satisfied: azure-mgmt-keyvault<11.0.0,>=0.40.0 in /anaconda/envs/azureml_py38/lib/python3.10/site-packages (from azureml-core~=1.60->azureml-rag[faiss,hugging_face]>=0.2.36) (10.3.1)\n",
      "Requirement already satisfied: urllib3<3.0.0,>1.26.17 in /anaconda/envs/azureml_py38/lib/python3.10/site-packages (from azureml-core~=1.60->azureml-rag[faiss,hugging_face]>=0.2.36) (1.26.20)\n",
      "Requirement already satisfied: msal<2.0.0,>=1.15.0 in /anaconda/envs/azureml_py38/lib/python3.10/site-packages (from azureml-core~=1.60->azureml-rag[faiss,hugging_face]>=0.2.36) (1.31.2b1)\n",
      "Requirement already satisfied: pkginfo in /anaconda/envs/azureml_py38/lib/python3.10/site-packages (from azureml-core~=1.60->azureml-rag[faiss,hugging_face]>=0.2.36) (1.12.1.2)\n",
      "Requirement already satisfied: msal-extensions<=2.0.0,>=0.3.0 in /anaconda/envs/azureml_py38/lib/python3.10/site-packages (from azureml-core~=1.60->azureml-rag[faiss,hugging_face]>=0.2.36) (1.2.0)\n",
      "Requirement already satisfied: packaging<=25.0,>=20.0 in /anaconda/envs/azureml_py38/lib/python3.10/site-packages (from azureml-core~=1.60->azureml-rag[faiss,hugging_face]>=0.2.36) (24.2)\n",
      "Requirement already satisfied: backports.tempfile in /anaconda/envs/azureml_py38/lib/python3.10/site-packages (from azureml-core~=1.60->azureml-rag[faiss,hugging_face]>=0.2.36) (1.0)\n",
      "Requirement already satisfied: azure-mgmt-resource<=24.0.0,>=15.0.0 in /anaconda/envs/azureml_py38/lib/python3.10/site-packages (from azureml-core~=1.60->azureml-rag[faiss,hugging_face]>=0.2.36) (23.1.1)\n",
      "Requirement already satisfied: ndg-httpsclient<=0.5.1 in /anaconda/envs/azureml_py38/lib/python3.10/site-packages (from azureml-core~=1.60->azureml-rag[faiss,hugging_face]>=0.2.36) (0.5.1)\n",
      "Requirement already satisfied: azure-mgmt-containerregistry<11,>=8.2.0 in /anaconda/envs/azureml_py38/lib/python3.10/site-packages (from azureml-core~=1.60->azureml-rag[faiss,hugging_face]>=0.2.36) (10.3.0)\n",
      "Requirement already satisfied: paramiko<4.0.0,>=2.0.8 in /anaconda/envs/azureml_py38/lib/python3.10/site-packages (from azureml-core~=1.60->azureml-rag[faiss,hugging_face]>=0.2.36) (3.5.1)\n",
      "Requirement already satisfied: jmespath<2.0.0 in /anaconda/envs/azureml_py38/lib/python3.10/site-packages (from azureml-core~=1.60->azureml-rag[faiss,hugging_face]>=0.2.36) (0.10.0)\n",
      "Requirement already satisfied: SecretStorage<4.0.0 in /anaconda/envs/azureml_py38/lib/python3.10/site-packages (from azureml-core~=1.60->azureml-rag[faiss,hugging_face]>=0.2.36) (3.3.3)\n",
      "Requirement already satisfied: pyopenssl<26.0.0 in /anaconda/envs/azureml_py38/lib/python3.10/site-packages (from azureml-core~=1.60->azureml-rag[faiss,hugging_face]>=0.2.36) (23.0.0)\n",
      "Requirement already satisfied: msrestazure<=0.7,>=0.4.33 in /anaconda/envs/azureml_py38/lib/python3.10/site-packages (from azureml-core~=1.60->azureml-rag[faiss,hugging_face]>=0.2.36) (0.6.4.post1)\n",
      "Requirement already satisfied: azure-mgmt-storage<=23.0.0,>=16.0.0 in /anaconda/envs/azureml_py38/lib/python3.10/site-packages (from azureml-core~=1.60->azureml-rag[faiss,hugging_face]>=0.2.36) (22.0.0)\n",
      "Requirement already satisfied: azure-core<2.0.0 in /anaconda/envs/azureml_py38/lib/python3.10/site-packages (from azureml-core~=1.60->azureml-rag[faiss,hugging_face]>=0.2.36) (1.33.0)\n",
      "Requirement already satisfied: docker<8.0.0 in /anaconda/envs/azureml_py38/lib/python3.10/site-packages (from azureml-core~=1.60->azureml-rag[faiss,hugging_face]>=0.2.36) (7.1.0)\n",
      "Requirement already satisfied: PyJWT<3.0.0 in /anaconda/envs/azureml_py38/lib/python3.10/site-packages (from azureml-core~=1.60->azureml-rag[faiss,hugging_face]>=0.2.36) (2.4.0)\n",
      "Requirement already satisfied: azure-mgmt-authorization<5,>=0.40.0 in /anaconda/envs/azureml_py38/lib/python3.10/site-packages (from azureml-core~=1.60->azureml-rag[faiss,hugging_face]>=0.2.36) (4.0.0)\n",
      "Requirement already satisfied: knack<0.13.0 in /anaconda/envs/azureml_py38/lib/python3.10/site-packages (from azureml-core~=1.60->azureml-rag[faiss,hugging_face]>=0.2.36) (0.11.0)\n",
      "Requirement already satisfied: azure-common<2.0.0,>=1.1.12 in /anaconda/envs/azureml_py38/lib/python3.10/site-packages (from azureml-core~=1.60->azureml-rag[faiss,hugging_face]>=0.2.36) (1.1.28)\n",
      "Requirement already satisfied: azure-mgmt-network<=29.0.0 in /anaconda/envs/azureml_py38/lib/python3.10/site-packages (from azureml-core~=1.60->azureml-rag[faiss,hugging_face]>=0.2.36) (26.0.0)\n",
      "Requirement already satisfied: contextlib2<22.0.0 in /anaconda/envs/azureml_py38/lib/python3.10/site-packages (from azureml-core~=1.60->azureml-rag[faiss,hugging_face]>=0.2.36) (21.6.0)\n",
      "Requirement already satisfied: msrest<=0.7.1,>=0.5.1 in /anaconda/envs/azureml_py38/lib/python3.10/site-packages (from azureml-core~=1.60->azureml-rag[faiss,hugging_face]>=0.2.36) (0.7.1)\n",
      "Requirement already satisfied: python-dateutil<3.0.0,>=2.7.3 in /anaconda/envs/azureml_py38/lib/python3.10/site-packages (from azureml-core~=1.60->azureml-rag[faiss,hugging_face]>=0.2.36) (2.9.0.post0)\n",
      "Requirement already satisfied: jsonpickle<5.0.0 in /anaconda/envs/azureml_py38/lib/python3.10/site-packages (from azureml-core~=1.60->azureml-rag[faiss,hugging_face]>=0.2.36) (4.0.5)\n",
      "Requirement already satisfied: azure-graphrbac<1.0.0,>=0.40.0 in /anaconda/envs/azureml_py38/lib/python3.10/site-packages (from azureml-core~=1.60->azureml-rag[faiss,hugging_face]>=0.2.36) (0.60.0)\n",
      "Requirement already satisfied: jsonschema in /anaconda/envs/azureml_py38/lib/python3.10/site-packages (from azureml-dataprep[parquet]>=5.1->azureml-rag[faiss,hugging_face]>=0.2.36) (4.23.0)\n",
      "Collecting azureml-dataprep-native<42.0.0,>=41.0.0\n",
      "  Using cached azureml_dataprep_native-41.0.0-cp310-cp310-manylinux1_x86_64.whl (187 kB)\n",
      "Collecting azureml-dataprep-rslex~=2.24.0dev0\n",
      "  Using cached azureml_dataprep_rslex-2.24.5-cp310-cp310-manylinux1_x86_64.whl (26.1 MB)\n",
      "Collecting azure-identity<=1.17.0,>=1.16.0\n",
      "  Using cached azure_identity-1.17.0-py3-none-any.whl (173 kB)\n",
      "Requirement already satisfied: pyarrow>=0.17.0 in /anaconda/envs/azureml_py38/lib/python3.10/site-packages (from azureml-dataprep[parquet]>=5.1->azureml-rag[faiss,hugging_face]>=0.2.36) (9.0.0)\n",
      "Requirement already satisfied: tqdm in /anaconda/envs/azureml_py38/lib/python3.10/site-packages (from openai>=0.27.8->azureml-rag[faiss,hugging_face]>=0.2.36) (4.67.1)\n",
      "Requirement already satisfied: aiohttp in /anaconda/envs/azureml_py38/lib/python3.10/site-packages (from openai>=0.27.8->azureml-rag[faiss,hugging_face]>=0.2.36) (3.11.16)\n",
      "Requirement already satisfied: charset-normalizer<4,>=2 in /anaconda/envs/azureml_py38/lib/python3.10/site-packages (from requests->azureml-rag[faiss,hugging_face]>=0.2.36) (3.4.1)\n",
      "Requirement already satisfied: idna<4,>=2.5 in /anaconda/envs/azureml_py38/lib/python3.10/site-packages (from requests->azureml-rag[faiss,hugging_face]>=0.2.36) (3.10)\n",
      "Requirement already satisfied: certifi>=2017.4.17 in /anaconda/envs/azureml_py38/lib/python3.10/site-packages (from requests->azureml-rag[faiss,hugging_face]>=0.2.36) (2025.1.31)\n",
      "Requirement already satisfied: regex>=2022.1.18 in /anaconda/envs/azureml_py38/lib/python3.10/site-packages (from tiktoken<1.0,>=0.7->azureml-rag[faiss,hugging_face]>=0.2.36) (2024.11.6)\n",
      "Collecting azureml-fsspec\n",
      "  Using cached azureml_fsspec-1.3.1-py3-none-any.whl (16 kB)\n",
      "  Using cached azureml_fsspec-1.3.0-py3-none-any.whl (16 kB)\n",
      "  Using cached azureml_fsspec-1.2.0-py3-none-any.whl (10 kB)\n",
      "  Using cached azureml_fsspec-1.1.0-py3-none-any.whl (10 kB)\n",
      "  Using cached azureml_fsspec-1.0.0-py3-none-any.whl (11 kB)\n",
      "INFO: pip is looking at multiple versions of <Python from Requires-Python> to determine which version is compatible with other requirements. This could take a while.\n",
      "INFO: pip is looking at multiple versions of tiktoken to determine which version is compatible with other requirements. This could take a while.\n",
      "Collecting tiktoken<1.0,>=0.7\n",
      "  Using cached tiktoken-0.8.0-cp310-cp310-manylinux_2_17_x86_64.manylinux2014_x86_64.whl (1.2 MB)\n",
      "INFO: pip is looking at multiple versions of requests to determine which version is compatible with other requirements. This could take a while.\n",
      "Collecting requests\n",
      "  Using cached requests-2.32.3-py3-none-any.whl (64 kB)\n",
      "INFO: pip is looking at multiple versions of pyyaml to determine which version is compatible with other requirements. This could take a while.\n",
      "Collecting pyyaml<7.0.0,>=5.1.0\n",
      "  Using cached PyYAML-6.0.2-cp310-cp310-manylinux_2_17_x86_64.manylinux2014_x86_64.whl (751 kB)\n",
      "INFO: pip is looking at multiple versions of openai to determine which version is compatible with other requirements. This could take a while.\n",
      "Collecting openai>=0.27.8\n",
      "  Using cached openai-1.84.0-py3-none-any.whl (725 kB)\n",
      "INFO: pip is looking at multiple versions of fsspec to determine which version is compatible with other requirements. This could take a while.\n",
      "Collecting fsspec~=2023.3\n",
      "  Using cached fsspec-2023.12.2-py3-none-any.whl (168 kB)\n",
      "INFO: pip is looking at multiple versions of cloudpickle to determine which version is compatible with other requirements. This could take a while.\n",
      "Collecting cloudpickle\n",
      "  Using cached cloudpickle-2.2.1-py3-none-any.whl (25 kB)\n",
      "INFO: pip is looking at multiple versions of azureml-dataprep[parquet] to determine which version is compatible with other requirements. This could take a while.\n",
      "Collecting azureml-dataprep[parquet]>=5.1\n",
      "  Using cached azureml_dataprep-5.3.2-py3-none-any.whl (252 kB)\n",
      "Requirement already satisfied: azure-identity>=1.16.0 in /anaconda/envs/azureml_py38/lib/python3.10/site-packages (from azureml-dataprep[parquet]>=5.1->azureml-rag[faiss,hugging_face]>=0.2.36) (1.21.0)\n",
      "  Using cached azureml_dataprep-5.3.1-py3-none-any.whl (252 kB)\n",
      "  Using cached azureml_dataprep-5.3.0-py3-none-any.whl (252 kB)\n",
      "Collecting azureml-dataprep-rslex~=2.22.0dev0\n",
      "  Using cached azureml_dataprep_rslex-2.22.5-cp310-cp310-manylinux1_x86_64.whl (24.8 MB)\n",
      "Collecting azureml-dataprep[parquet]>=5.1\n",
      "  Using cached azureml_dataprep-5.2.1-py3-none-any.whl (252 kB)\n",
      "Collecting azureml-dataprep-rslex~=2.23.0dev0\n",
      "  Using cached azureml_dataprep_rslex-2.23.8-cp310-cp310-manylinux1_x86_64.whl (24.7 MB)\n",
      "Collecting azureml-dataprep[parquet]>=5.1\n",
      "  Using cached azureml_dataprep-5.2.0-py3-none-any.whl (252 kB)\n",
      "  Using cached azureml_dataprep-5.1.6-py3-none-any.whl (252 kB)\n",
      "Requirement already satisfied: numpy<3.0,>=1.25.0 in /anaconda/envs/azureml_py38/lib/python3.10/site-packages (from faiss-cpu->azureml-rag[faiss,hugging_face]>=0.2.36) (2.2.6)\n",
      "Requirement already satisfied: cryptography>=1.1.0 in /anaconda/envs/azureml_py38/lib/python3.10/site-packages (from adal<=1.2.7,>=1.2.0->azureml-core~=1.60->azureml-rag[faiss,hugging_face]>=0.2.36) (38.0.4)\n",
      "Requirement already satisfied: typing-extensions>=4.6.0 in /anaconda/envs/azureml_py38/lib/python3.10/site-packages (from azure-core<2.0.0->azureml-core~=1.60->azureml-rag[faiss,hugging_face]>=0.2.36) (4.13.2)\n",
      "Requirement already satisfied: six>=1.11.0 in /anaconda/envs/azureml_py38/lib/python3.10/site-packages (from azure-core<2.0.0->azureml-core~=1.60->azureml-rag[faiss,hugging_face]>=0.2.36) (1.17.0)\n",
      "Requirement already satisfied: azure-mgmt-core<2.0.0,>=1.3.2 in /anaconda/envs/azureml_py38/lib/python3.10/site-packages (from azure-mgmt-authorization<5,>=0.40.0->azureml-core~=1.60->azureml-rag[faiss,hugging_face]>=0.2.36) (1.5.0)\n",
      "Requirement already satisfied: isodate<1.0.0,>=0.6.1 in /anaconda/envs/azureml_py38/lib/python3.10/site-packages (from azure-mgmt-authorization<5,>=0.40.0->azureml-core~=1.60->azureml-rag[faiss,hugging_face]>=0.2.36) (0.7.2)\n",
      "Requirement already satisfied: tabulate in /anaconda/envs/azureml_py38/lib/python3.10/site-packages (from knack<0.13.0->azureml-core~=1.60->azureml-rag[faiss,hugging_face]>=0.2.36) (0.9.0)\n",
      "Requirement already satisfied: pygments in /anaconda/envs/azureml_py38/lib/python3.10/site-packages (from knack<0.13.0->azureml-core~=1.60->azureml-rag[faiss,hugging_face]>=0.2.36) (2.19.1)\n",
      "Requirement already satisfied: portalocker<3,>=1.4 in /anaconda/envs/azureml_py38/lib/python3.10/site-packages (from msal-extensions<=2.0.0,>=0.3.0->azureml-core~=1.60->azureml-rag[faiss,hugging_face]>=0.2.36) (2.10.1)\n",
      "Requirement already satisfied: requests-oauthlib>=0.5.0 in /anaconda/envs/azureml_py38/lib/python3.10/site-packages (from msrest<=0.7.1,>=0.5.1->azureml-core~=1.60->azureml-rag[faiss,hugging_face]>=0.2.36) (2.0.0)\n",
      "Requirement already satisfied: pyasn1>=0.1.1 in /anaconda/envs/azureml_py38/lib/python3.10/site-packages (from ndg-httpsclient<=0.5.1->azureml-core~=1.60->azureml-rag[faiss,hugging_face]>=0.2.36) (0.6.1)\n",
      "Requirement already satisfied: pynacl>=1.5 in /anaconda/envs/azureml_py38/lib/python3.10/site-packages (from paramiko<4.0.0,>=2.0.8->azureml-core~=1.60->azureml-rag[faiss,hugging_face]>=0.2.36) (1.5.0)\n",
      "Requirement already satisfied: bcrypt>=3.2 in /anaconda/envs/azureml_py38/lib/python3.10/site-packages (from paramiko<4.0.0,>=2.0.8->azureml-core~=1.60->azureml-rag[faiss,hugging_face]>=0.2.36) (4.3.0)\n",
      "Requirement already satisfied: PySocks!=1.5.7,>=1.5.6 in /anaconda/envs/azureml_py38/lib/python3.10/site-packages (from requests->azureml-rag[faiss,hugging_face]>=0.2.36) (1.7.1)\n",
      "Requirement already satisfied: jeepney>=0.6 in /anaconda/envs/azureml_py38/lib/python3.10/site-packages (from SecretStorage<4.0.0->azureml-core~=1.60->azureml-rag[faiss,hugging_face]>=0.2.36) (0.9.0)\n",
      "Requirement already satisfied: aiohappyeyeballs>=2.3.0 in /anaconda/envs/azureml_py38/lib/python3.10/site-packages (from aiohttp->openai>=0.27.8->azureml-rag[faiss,hugging_face]>=0.2.36) (2.6.1)\n",
      "Requirement already satisfied: async-timeout<6.0,>=4.0 in /anaconda/envs/azureml_py38/lib/python3.10/site-packages (from aiohttp->openai>=0.27.8->azureml-rag[faiss,hugging_face]>=0.2.36) (4.0.3)\n",
      "Requirement already satisfied: yarl<2.0,>=1.17.0 in /anaconda/envs/azureml_py38/lib/python3.10/site-packages (from aiohttp->openai>=0.27.8->azureml-rag[faiss,hugging_face]>=0.2.36) (1.19.0)\n",
      "Requirement already satisfied: aiosignal>=1.1.2 in /anaconda/envs/azureml_py38/lib/python3.10/site-packages (from aiohttp->openai>=0.27.8->azureml-rag[faiss,hugging_face]>=0.2.36) (1.3.2)\n",
      "Requirement already satisfied: frozenlist>=1.1.1 in /anaconda/envs/azureml_py38/lib/python3.10/site-packages (from aiohttp->openai>=0.27.8->azureml-rag[faiss,hugging_face]>=0.2.36) (1.5.0)\n",
      "Requirement already satisfied: multidict<7.0,>=4.5 in /anaconda/envs/azureml_py38/lib/python3.10/site-packages (from aiohttp->openai>=0.27.8->azureml-rag[faiss,hugging_face]>=0.2.36) (6.4.3)\n",
      "Requirement already satisfied: attrs>=17.3.0 in /anaconda/envs/azureml_py38/lib/python3.10/site-packages (from aiohttp->openai>=0.27.8->azureml-rag[faiss,hugging_face]>=0.2.36) (25.3.0)\n",
      "Requirement already satisfied: propcache>=0.2.0 in /anaconda/envs/azureml_py38/lib/python3.10/site-packages (from aiohttp->openai>=0.27.8->azureml-rag[faiss,hugging_face]>=0.2.36) (0.3.1)\n",
      "Requirement already satisfied: backports.weakref in /anaconda/envs/azureml_py38/lib/python3.10/site-packages (from backports.tempfile->azureml-core~=1.60->azureml-rag[faiss,hugging_face]>=0.2.36) (1.0.post1)\n",
      "Requirement already satisfied: referencing>=0.28.4 in /anaconda/envs/azureml_py38/lib/python3.10/site-packages (from jsonschema->azureml-dataprep[parquet]>=5.1->azureml-rag[faiss,hugging_face]>=0.2.36) (0.36.2)\n",
      "Requirement already satisfied: rpds-py>=0.7.1 in /anaconda/envs/azureml_py38/lib/python3.10/site-packages (from jsonschema->azureml-dataprep[parquet]>=5.1->azureml-rag[faiss,hugging_face]>=0.2.36) (0.19.1)\n",
      "Requirement already satisfied: jsonschema-specifications>=2023.03.6 in /anaconda/envs/azureml_py38/lib/python3.10/site-packages (from jsonschema->azureml-dataprep[parquet]>=5.1->azureml-rag[faiss,hugging_face]>=0.2.36) (2024.10.1)\n",
      "Requirement already satisfied: cffi>=1.12 in /anaconda/envs/azureml_py38/lib/python3.10/site-packages (from cryptography>=1.1.0->adal<=1.2.7,>=1.2.0->azureml-core~=1.60->azureml-rag[faiss,hugging_face]>=0.2.36) (1.17.1)\n",
      "Requirement already satisfied: oauthlib>=3.0.0 in /anaconda/envs/azureml_py38/lib/python3.10/site-packages (from requests-oauthlib>=0.5.0->msrest<=0.7.1,>=0.5.1->azureml-core~=1.60->azureml-rag[faiss,hugging_face]>=0.2.36) (3.2.2)\n",
      "Requirement already satisfied: pycparser in /anaconda/envs/azureml_py38/lib/python3.10/site-packages (from cffi>=1.12->cryptography>=1.1.0->adal<=1.2.7,>=1.2.0->azureml-core~=1.60->azureml-rag[faiss,hugging_face]>=0.2.36) (2.22)\n",
      "Installing collected packages: azureml-dataprep-rslex, azureml-dataprep-native, tiktoken, azureml-dataprep, azureml-fsspec, azureml-rag\n",
      "  Attempting uninstall: azureml-dataprep-rslex\n",
      "    Found existing installation: azureml-dataprep-rslex 2.18.7\n",
      "    Uninstalling azureml-dataprep-rslex-2.18.7:\n",
      "      Successfully uninstalled azureml-dataprep-rslex-2.18.7\n",
      "  Attempting uninstall: azureml-dataprep-native\n",
      "    Found existing installation: azureml-dataprep-native 38.0.0\n",
      "    Uninstalling azureml-dataprep-native-38.0.0:\n",
      "      Successfully uninstalled azureml-dataprep-native-38.0.0\n",
      "  Attempting uninstall: tiktoken\n",
      "    Found existing installation: tiktoken 0.3.3\n",
      "    Uninstalling tiktoken-0.3.3:\n",
      "      Successfully uninstalled tiktoken-0.3.3\n",
      "  Attempting uninstall: azureml-dataprep\n",
      "    Found existing installation: azureml-dataprep 4.11.7\n",
      "    Uninstalling azureml-dataprep-4.11.7:\n",
      "      Successfully uninstalled azureml-dataprep-4.11.7\n",
      "  Attempting uninstall: azureml-fsspec\n",
      "    Found existing installation: azureml-fsspec 1.1.1\n",
      "    Uninstalling azureml-fsspec-1.1.1:\n",
      "      Successfully uninstalled azureml-fsspec-1.1.1\n",
      "  Attempting uninstall: azureml-rag\n",
      "    Found existing installation: azureml-rag 0.1.8\n",
      "    Uninstalling azureml-rag-0.1.8:\n",
      "      Successfully uninstalled azureml-rag-0.1.8\n",
      "\u001b[31mERROR: pip's dependency resolver does not currently take into account all the packages that are installed. This behaviour is the source of the following dependency conflicts.\n",
      "azureml-dataset-runtime 1.60.0 requires numpy!=1.19.3,<1.24; sys_platform == \"linux\", but you have numpy 2.2.6 which is incompatible.\n",
      "azureml-automl-runtime 1.60.0 requires numpy<=1.23.5,>=1.16.0; python_version >= \"3.8\", but you have numpy 2.2.6 which is incompatible.\n",
      "azureml-automl-runtime 1.60.0 requires psutil<5.9.4,>=5.2.2, but you have psutil 7.0.0 which is incompatible.\n",
      "azureml-automl-dnn-nlp 1.60.0 requires torch==2.2.2, but you have torch 2.6.0 which is incompatible.\u001b[0m\u001b[31m\n",
      "\u001b[0mSuccessfully installed azureml-dataprep-5.1.6 azureml-dataprep-native-41.0.0 azureml-dataprep-rslex-2.22.5 azureml-fsspec-1.3.1 azureml-rag-0.2.39 tiktoken-0.9.0\n",
      "Collecting azureml-rag==0.1.8\n",
      "  Using cached azureml_rag-0.1.8-py3-none-any.whl (173 kB)\n",
      "Requirement already satisfied: azureml-core in /anaconda/envs/azureml_py38/lib/python3.10/site-packages (from azureml-rag==0.1.8) (1.60.0)\n",
      "Requirement already satisfied: azureml-telemetry in /anaconda/envs/azureml_py38/lib/python3.10/site-packages (from azureml-rag==0.1.8) (1.60.0)\n",
      "Requirement already satisfied: fsspec~=2023.3 in /anaconda/envs/azureml_py38/lib/python3.10/site-packages (from azureml-rag==0.1.8) (2023.10.0)\n",
      "Requirement already satisfied: msrest>=0.6.18 in /anaconda/envs/azureml_py38/lib/python3.10/site-packages (from azureml-rag==0.1.8) (0.7.1)\n",
      "Requirement already satisfied: pyyaml<7.0.0,>=5.1.0 in /anaconda/envs/azureml_py38/lib/python3.10/site-packages (from azureml-rag==0.1.8) (6.0.2)\n",
      "Requirement already satisfied: openai~=0.27.4 in /anaconda/envs/azureml_py38/lib/python3.10/site-packages (from azureml-rag==0.1.8) (0.27.10)\n",
      "Collecting tiktoken~=0.3.0\n",
      "  Using cached tiktoken-0.3.3-cp310-cp310-manylinux_2_17_x86_64.manylinux2014_x86_64.whl (1.7 MB)\n",
      "Collecting azureml-dataprep[parquet]<4.12.0a,>=4.11.3a\n",
      "  Using cached azureml_dataprep-4.11.7-py3-none-any.whl (38.2 MB)\n",
      "Requirement already satisfied: langchain!=0.0.174,>=0.0.149 in /anaconda/envs/azureml_py38/lib/python3.10/site-packages (from azureml-rag==0.1.8) (0.3.25)\n",
      "Requirement already satisfied: cloudpickle in /anaconda/envs/azureml_py38/lib/python3.10/site-packages (from azureml-rag==0.1.8) (1.6.0)\n",
      "Requirement already satisfied: azureml-fsspec in /anaconda/envs/azureml_py38/lib/python3.10/site-packages (from azureml-rag==0.1.8) (1.3.1)\n",
      "Requirement already satisfied: azureml-mlflow in /anaconda/envs/azureml_py38/lib/python3.10/site-packages (from azureml-rag==0.1.8) (1.60.0)\n",
      "Collecting azureml-dataprep-native<39.0.0,>=38.0.0\n",
      "  Using cached azureml_dataprep_native-38.0.0-cp310-cp310-manylinux1_x86_64.whl (191 kB)\n",
      "Requirement already satisfied: azure-identity>=1.7.0 in /anaconda/envs/azureml_py38/lib/python3.10/site-packages (from azureml-dataprep[parquet]<4.12.0a,>=4.11.3a->azureml-rag==0.1.8) (1.21.0)\n",
      "Requirement already satisfied: jsonschema in /anaconda/envs/azureml_py38/lib/python3.10/site-packages (from azureml-dataprep[parquet]<4.12.0a,>=4.11.3a->azureml-rag==0.1.8) (4.23.0)\n",
      "Collecting azureml-dataprep-rslex~=2.18.5dev0\n",
      "  Using cached azureml_dataprep_rslex-2.18.7-cp310-cp310-manylinux_2_17_x86_64.manylinux2014_x86_64.whl (22.0 MB)\n",
      "Requirement already satisfied: dotnetcore2<4.0.0,>=3.0.0 in /anaconda/envs/azureml_py38/lib/python3.10/site-packages (from azureml-dataprep[parquet]<4.12.0a,>=4.11.3a->azureml-rag==0.1.8) (3.1.23)\n",
      "Requirement already satisfied: pyarrow<=9.0.0,>=0.17.0 in /anaconda/envs/azureml_py38/lib/python3.10/site-packages (from azureml-dataprep[parquet]<4.12.0a,>=4.11.3a->azureml-rag==0.1.8) (9.0.0)\n",
      "Requirement already satisfied: langchain-core<1.0.0,>=0.3.58 in /anaconda/envs/azureml_py38/lib/python3.10/site-packages (from langchain!=0.0.174,>=0.0.149->azureml-rag==0.1.8) (0.3.64)\n",
      "Requirement already satisfied: SQLAlchemy<3,>=1.4 in /anaconda/envs/azureml_py38/lib/python3.10/site-packages (from langchain!=0.0.174,>=0.0.149->azureml-rag==0.1.8) (2.0.41)\n",
      "Requirement already satisfied: pydantic<3.0.0,>=2.7.4 in /anaconda/envs/azureml_py38/lib/python3.10/site-packages (from langchain!=0.0.174,>=0.0.149->azureml-rag==0.1.8) (2.9.2)\n",
      "Requirement already satisfied: async-timeout<5.0.0,>=4.0.0 in /anaconda/envs/azureml_py38/lib/python3.10/site-packages (from langchain!=0.0.174,>=0.0.149->azureml-rag==0.1.8) (4.0.3)\n",
      "Requirement already satisfied: langchain-text-splitters<1.0.0,>=0.3.8 in /anaconda/envs/azureml_py38/lib/python3.10/site-packages (from langchain!=0.0.174,>=0.0.149->azureml-rag==0.1.8) (0.3.8)\n",
      "Requirement already satisfied: requests<3,>=2 in /anaconda/envs/azureml_py38/lib/python3.10/site-packages (from langchain!=0.0.174,>=0.0.149->azureml-rag==0.1.8) (2.32.3)\n",
      "Requirement already satisfied: langsmith<0.4,>=0.1.17 in /anaconda/envs/azureml_py38/lib/python3.10/site-packages (from langchain!=0.0.174,>=0.0.149->azureml-rag==0.1.8) (0.3.45)\n",
      "Requirement already satisfied: isodate>=0.6.0 in /anaconda/envs/azureml_py38/lib/python3.10/site-packages (from msrest>=0.6.18->azureml-rag==0.1.8) (0.7.2)\n",
      "Requirement already satisfied: azure-core>=1.24.0 in /anaconda/envs/azureml_py38/lib/python3.10/site-packages (from msrest>=0.6.18->azureml-rag==0.1.8) (1.33.0)\n",
      "Requirement already satisfied: requests-oauthlib>=0.5.0 in /anaconda/envs/azureml_py38/lib/python3.10/site-packages (from msrest>=0.6.18->azureml-rag==0.1.8) (2.0.0)\n",
      "Requirement already satisfied: certifi>=2017.4.17 in /anaconda/envs/azureml_py38/lib/python3.10/site-packages (from msrest>=0.6.18->azureml-rag==0.1.8) (2025.1.31)\n",
      "Requirement already satisfied: tqdm in /anaconda/envs/azureml_py38/lib/python3.10/site-packages (from openai~=0.27.4->azureml-rag==0.1.8) (4.67.1)\n",
      "Requirement already satisfied: aiohttp in /anaconda/envs/azureml_py38/lib/python3.10/site-packages (from openai~=0.27.4->azureml-rag==0.1.8) (3.11.16)\n",
      "Requirement already satisfied: regex>=2022.1.18 in /anaconda/envs/azureml_py38/lib/python3.10/site-packages (from tiktoken~=0.3.0->azureml-rag==0.1.8) (2024.11.6)\n",
      "Requirement already satisfied: jsonpickle<5.0.0 in /anaconda/envs/azureml_py38/lib/python3.10/site-packages (from azureml-core->azureml-rag==0.1.8) (4.0.5)\n",
      "Requirement already satisfied: PyJWT<3.0.0 in /anaconda/envs/azureml_py38/lib/python3.10/site-packages (from azureml-core->azureml-rag==0.1.8) (2.4.0)\n",
      "Requirement already satisfied: azure-mgmt-authorization<5,>=0.40.0 in /anaconda/envs/azureml_py38/lib/python3.10/site-packages (from azureml-core->azureml-rag==0.1.8) (4.0.0)\n",
      "Requirement already satisfied: pytz in /anaconda/envs/azureml_py38/lib/python3.10/site-packages (from azureml-core->azureml-rag==0.1.8) (2022.5)\n",
      "Requirement already satisfied: azure-mgmt-storage<=23.0.0,>=16.0.0 in /anaconda/envs/azureml_py38/lib/python3.10/site-packages (from azureml-core->azureml-rag==0.1.8) (22.0.0)\n",
      "Requirement already satisfied: azure-mgmt-containerregistry<11,>=8.2.0 in /anaconda/envs/azureml_py38/lib/python3.10/site-packages (from azureml-core->azureml-rag==0.1.8) (10.3.0)\n",
      "Requirement already satisfied: azure-mgmt-network<=29.0.0 in /anaconda/envs/azureml_py38/lib/python3.10/site-packages (from azureml-core->azureml-rag==0.1.8) (26.0.0)\n",
      "Requirement already satisfied: SecretStorage<4.0.0 in /anaconda/envs/azureml_py38/lib/python3.10/site-packages (from azureml-core->azureml-rag==0.1.8) (3.3.3)\n",
      "Requirement already satisfied: packaging<=25.0,>=20.0 in /anaconda/envs/azureml_py38/lib/python3.10/site-packages (from azureml-core->azureml-rag==0.1.8) (24.2)\n",
      "Requirement already satisfied: paramiko<4.0.0,>=2.0.8 in /anaconda/envs/azureml_py38/lib/python3.10/site-packages (from azureml-core->azureml-rag==0.1.8) (3.5.1)\n",
      "Requirement already satisfied: adal<=1.2.7,>=1.2.0 in /anaconda/envs/azureml_py38/lib/python3.10/site-packages (from azureml-core->azureml-rag==0.1.8) (1.2.7)\n",
      "Requirement already satisfied: knack<0.13.0 in /anaconda/envs/azureml_py38/lib/python3.10/site-packages (from azureml-core->azureml-rag==0.1.8) (0.11.0)\n",
      "Requirement already satisfied: backports.tempfile in /anaconda/envs/azureml_py38/lib/python3.10/site-packages (from azureml-core->azureml-rag==0.1.8) (1.0)\n",
      "Requirement already satisfied: contextlib2<22.0.0 in /anaconda/envs/azureml_py38/lib/python3.10/site-packages (from azureml-core->azureml-rag==0.1.8) (21.6.0)\n",
      "Requirement already satisfied: python-dateutil<3.0.0,>=2.7.3 in /anaconda/envs/azureml_py38/lib/python3.10/site-packages (from azureml-core->azureml-rag==0.1.8) (2.9.0.post0)\n",
      "Requirement already satisfied: msal<2.0.0,>=1.15.0 in /anaconda/envs/azureml_py38/lib/python3.10/site-packages (from azureml-core->azureml-rag==0.1.8) (1.31.2b1)\n",
      "Requirement already satisfied: pyopenssl<26.0.0 in /anaconda/envs/azureml_py38/lib/python3.10/site-packages (from azureml-core->azureml-rag==0.1.8) (23.0.0)\n",
      "Requirement already satisfied: docker<8.0.0 in /anaconda/envs/azureml_py38/lib/python3.10/site-packages (from azureml-core->azureml-rag==0.1.8) (7.1.0)\n",
      "Requirement already satisfied: azure-mgmt-keyvault<11.0.0,>=0.40.0 in /anaconda/envs/azureml_py38/lib/python3.10/site-packages (from azureml-core->azureml-rag==0.1.8) (10.3.1)\n",
      "Requirement already satisfied: pathspec<1.0.0 in /anaconda/envs/azureml_py38/lib/python3.10/site-packages (from azureml-core->azureml-rag==0.1.8) (0.12.1)\n",
      "Requirement already satisfied: azure-common<2.0.0,>=1.1.12 in /anaconda/envs/azureml_py38/lib/python3.10/site-packages (from azureml-core->azureml-rag==0.1.8) (1.1.28)\n",
      "Requirement already satisfied: azure-graphrbac<1.0.0,>=0.40.0 in /anaconda/envs/azureml_py38/lib/python3.10/site-packages (from azureml-core->azureml-rag==0.1.8) (0.60.0)\n",
      "Requirement already satisfied: urllib3<3.0.0,>1.26.17 in /anaconda/envs/azureml_py38/lib/python3.10/site-packages (from azureml-core->azureml-rag==0.1.8) (1.26.20)\n",
      "Requirement already satisfied: msal-extensions<=2.0.0,>=0.3.0 in /anaconda/envs/azureml_py38/lib/python3.10/site-packages (from azureml-core->azureml-rag==0.1.8) (1.2.0)\n",
      "Requirement already satisfied: msrestazure<=0.7,>=0.4.33 in /anaconda/envs/azureml_py38/lib/python3.10/site-packages (from azureml-core->azureml-rag==0.1.8) (0.6.4.post1)\n",
      "Requirement already satisfied: ndg-httpsclient<=0.5.1 in /anaconda/envs/azureml_py38/lib/python3.10/site-packages (from azureml-core->azureml-rag==0.1.8) (0.5.1)\n",
      "Requirement already satisfied: argcomplete<4 in /anaconda/envs/azureml_py38/lib/python3.10/site-packages (from azureml-core->azureml-rag==0.1.8) (3.5.3)\n",
      "Requirement already satisfied: humanfriendly<11.0,>=4.7 in /anaconda/envs/azureml_py38/lib/python3.10/site-packages (from azureml-core->azureml-rag==0.1.8) (10.0)\n",
      "Requirement already satisfied: jmespath<2.0.0 in /anaconda/envs/azureml_py38/lib/python3.10/site-packages (from azureml-core->azureml-rag==0.1.8) (0.10.0)\n",
      "Requirement already satisfied: pkginfo in /anaconda/envs/azureml_py38/lib/python3.10/site-packages (from azureml-core->azureml-rag==0.1.8) (1.12.1.2)\n",
      "Requirement already satisfied: azure-mgmt-resource<=24.0.0,>=15.0.0 in /anaconda/envs/azureml_py38/lib/python3.10/site-packages (from azureml-core->azureml-rag==0.1.8) (23.1.1)\n",
      "Collecting azureml-fsspec\n",
      "  Using cached azureml_fsspec-1.3.0-py3-none-any.whl (16 kB)\n",
      "  Using cached azureml_fsspec-1.2.0-py3-none-any.whl (10 kB)\n",
      "  Using cached azureml_fsspec-1.1.1-py3-none-any.whl (10 kB)\n",
      "Collecting azure-storage-blob<=12.19.0,>=12.5.0\n",
      "  Using cached azure_storage_blob-12.19.0-py3-none-any.whl (394 kB)\n",
      "Requirement already satisfied: cryptography in /anaconda/envs/azureml_py38/lib/python3.10/site-packages (from azureml-mlflow->azureml-rag==0.1.8) (38.0.4)\n",
      "Requirement already satisfied: mlflow-skinny in /anaconda/envs/azureml_py38/lib/python3.10/site-packages (from azureml-mlflow->azureml-rag==0.1.8) (2.21.3)\n",
      "Requirement already satisfied: azure-mgmt-core<2.0.0,>=1.2.0 in /anaconda/envs/azureml_py38/lib/python3.10/site-packages (from azureml-mlflow->azureml-rag==0.1.8) (1.5.0)\n",
      "Requirement already satisfied: applicationinsights in /anaconda/envs/azureml_py38/lib/python3.10/site-packages (from azureml-telemetry->azureml-rag==0.1.8) (0.11.10)\n",
      "Requirement already satisfied: typing-extensions>=4.6.0 in /anaconda/envs/azureml_py38/lib/python3.10/site-packages (from azure-core>=1.24.0->msrest>=0.6.18->azureml-rag==0.1.8) (4.13.2)\n",
      "Requirement already satisfied: six>=1.11.0 in /anaconda/envs/azureml_py38/lib/python3.10/site-packages (from azure-core>=1.24.0->msrest>=0.6.18->azureml-rag==0.1.8) (1.17.0)\n",
      "Requirement already satisfied: cffi>=1.12 in /anaconda/envs/azureml_py38/lib/python3.10/site-packages (from cryptography->azureml-mlflow->azureml-rag==0.1.8) (1.17.1)\n",
      "Requirement already satisfied: distro>=1.2.0 in /anaconda/envs/azureml_py38/lib/python3.10/site-packages (from dotnetcore2<4.0.0,>=3.0.0->azureml-dataprep[parquet]<4.12.0a,>=4.11.3a->azureml-rag==0.1.8) (1.9.0)\n",
      "Requirement already satisfied: tabulate in /anaconda/envs/azureml_py38/lib/python3.10/site-packages (from knack<0.13.0->azureml-core->azureml-rag==0.1.8) (0.9.0)\n",
      "Requirement already satisfied: pygments in /anaconda/envs/azureml_py38/lib/python3.10/site-packages (from knack<0.13.0->azureml-core->azureml-rag==0.1.8) (2.19.1)\n",
      "Requirement already satisfied: jsonpatch<2.0,>=1.33 in /anaconda/envs/azureml_py38/lib/python3.10/site-packages (from langchain-core<1.0.0,>=0.3.58->langchain!=0.0.174,>=0.0.149->azureml-rag==0.1.8) (1.33)\n",
      "Requirement already satisfied: tenacity!=8.4.0,<10.0.0,>=8.1.0 in /anaconda/envs/azureml_py38/lib/python3.10/site-packages (from langchain-core<1.0.0,>=0.3.58->langchain!=0.0.174,>=0.0.149->azureml-rag==0.1.8) (9.1.2)\n",
      "Requirement already satisfied: requests-toolbelt<2.0.0,>=1.0.0 in /anaconda/envs/azureml_py38/lib/python3.10/site-packages (from langsmith<0.4,>=0.1.17->langchain!=0.0.174,>=0.0.149->azureml-rag==0.1.8) (1.0.0)\n",
      "Requirement already satisfied: httpx<1,>=0.23.0 in /anaconda/envs/azureml_py38/lib/python3.10/site-packages (from langsmith<0.4,>=0.1.17->langchain!=0.0.174,>=0.0.149->azureml-rag==0.1.8) (0.28.1)\n",
      "Requirement already satisfied: zstandard<0.24.0,>=0.23.0 in /anaconda/envs/azureml_py38/lib/python3.10/site-packages (from langsmith<0.4,>=0.1.17->langchain!=0.0.174,>=0.0.149->azureml-rag==0.1.8) (0.23.0)\n",
      "Requirement already satisfied: orjson<4.0.0,>=3.9.14 in /anaconda/envs/azureml_py38/lib/python3.10/site-packages (from langsmith<0.4,>=0.1.17->langchain!=0.0.174,>=0.0.149->azureml-rag==0.1.8) (3.10.18)\n",
      "Requirement already satisfied: portalocker<3,>=1.4 in /anaconda/envs/azureml_py38/lib/python3.10/site-packages (from msal-extensions<=2.0.0,>=0.3.0->azureml-core->azureml-rag==0.1.8) (2.10.1)\n",
      "Requirement already satisfied: pyasn1>=0.1.1 in /anaconda/envs/azureml_py38/lib/python3.10/site-packages (from ndg-httpsclient<=0.5.1->azureml-core->azureml-rag==0.1.8) (0.6.1)\n",
      "Requirement already satisfied: pynacl>=1.5 in /anaconda/envs/azureml_py38/lib/python3.10/site-packages (from paramiko<4.0.0,>=2.0.8->azureml-core->azureml-rag==0.1.8) (1.5.0)\n",
      "Requirement already satisfied: bcrypt>=3.2 in /anaconda/envs/azureml_py38/lib/python3.10/site-packages (from paramiko<4.0.0,>=2.0.8->azureml-core->azureml-rag==0.1.8) (4.3.0)\n",
      "Requirement already satisfied: numpy>=1.16.6 in /anaconda/envs/azureml_py38/lib/python3.10/site-packages (from pyarrow<=9.0.0,>=0.17.0->azureml-dataprep[parquet]<4.12.0a,>=4.11.3a->azureml-rag==0.1.8) (2.2.6)\n",
      "Requirement already satisfied: pydantic-core==2.23.4 in /anaconda/envs/azureml_py38/lib/python3.10/site-packages (from pydantic<3.0.0,>=2.7.4->langchain!=0.0.174,>=0.0.149->azureml-rag==0.1.8) (2.23.4)\n",
      "Requirement already satisfied: annotated-types>=0.6.0 in /anaconda/envs/azureml_py38/lib/python3.10/site-packages (from pydantic<3.0.0,>=2.7.4->langchain!=0.0.174,>=0.0.149->azureml-rag==0.1.8) (0.7.0)\n",
      "Requirement already satisfied: idna<4,>=2.5 in /anaconda/envs/azureml_py38/lib/python3.10/site-packages (from requests<3,>=2->langchain!=0.0.174,>=0.0.149->azureml-rag==0.1.8) (3.10)\n",
      "Requirement already satisfied: charset-normalizer<4,>=2 in /anaconda/envs/azureml_py38/lib/python3.10/site-packages (from requests<3,>=2->langchain!=0.0.174,>=0.0.149->azureml-rag==0.1.8) (3.4.1)\n",
      "Requirement already satisfied: oauthlib>=3.0.0 in /anaconda/envs/azureml_py38/lib/python3.10/site-packages (from requests-oauthlib>=0.5.0->msrest>=0.6.18->azureml-rag==0.1.8) (3.2.2)\n",
      "Requirement already satisfied: PySocks!=1.5.7,>=1.5.6 in /anaconda/envs/azureml_py38/lib/python3.10/site-packages (from requests<3,>=2->langchain!=0.0.174,>=0.0.149->azureml-rag==0.1.8) (1.7.1)\n",
      "Requirement already satisfied: jeepney>=0.6 in /anaconda/envs/azureml_py38/lib/python3.10/site-packages (from SecretStorage<4.0.0->azureml-core->azureml-rag==0.1.8) (0.9.0)\n",
      "Requirement already satisfied: greenlet>=1 in /anaconda/envs/azureml_py38/lib/python3.10/site-packages (from SQLAlchemy<3,>=1.4->langchain!=0.0.174,>=0.0.149->azureml-rag==0.1.8) (3.2.1)\n",
      "Requirement already satisfied: aiosignal>=1.1.2 in /anaconda/envs/azureml_py38/lib/python3.10/site-packages (from aiohttp->openai~=0.27.4->azureml-rag==0.1.8) (1.3.2)\n",
      "Requirement already satisfied: multidict<7.0,>=4.5 in /anaconda/envs/azureml_py38/lib/python3.10/site-packages (from aiohttp->openai~=0.27.4->azureml-rag==0.1.8) (6.4.3)\n",
      "Requirement already satisfied: yarl<2.0,>=1.17.0 in /anaconda/envs/azureml_py38/lib/python3.10/site-packages (from aiohttp->openai~=0.27.4->azureml-rag==0.1.8) (1.19.0)\n",
      "Requirement already satisfied: frozenlist>=1.1.1 in /anaconda/envs/azureml_py38/lib/python3.10/site-packages (from aiohttp->openai~=0.27.4->azureml-rag==0.1.8) (1.5.0)\n",
      "Requirement already satisfied: attrs>=17.3.0 in /anaconda/envs/azureml_py38/lib/python3.10/site-packages (from aiohttp->openai~=0.27.4->azureml-rag==0.1.8) (25.3.0)\n",
      "Requirement already satisfied: propcache>=0.2.0 in /anaconda/envs/azureml_py38/lib/python3.10/site-packages (from aiohttp->openai~=0.27.4->azureml-rag==0.1.8) (0.3.1)\n",
      "Requirement already satisfied: aiohappyeyeballs>=2.3.0 in /anaconda/envs/azureml_py38/lib/python3.10/site-packages (from aiohttp->openai~=0.27.4->azureml-rag==0.1.8) (2.6.1)\n",
      "Requirement already satisfied: backports.weakref in /anaconda/envs/azureml_py38/lib/python3.10/site-packages (from backports.tempfile->azureml-core->azureml-rag==0.1.8) (1.0.post1)\n",
      "Requirement already satisfied: referencing>=0.28.4 in /anaconda/envs/azureml_py38/lib/python3.10/site-packages (from jsonschema->azureml-dataprep[parquet]<4.12.0a,>=4.11.3a->azureml-rag==0.1.8) (0.36.2)\n",
      "Requirement already satisfied: jsonschema-specifications>=2023.03.6 in /anaconda/envs/azureml_py38/lib/python3.10/site-packages (from jsonschema->azureml-dataprep[parquet]<4.12.0a,>=4.11.3a->azureml-rag==0.1.8) (2024.10.1)\n",
      "Requirement already satisfied: rpds-py>=0.7.1 in /anaconda/envs/azureml_py38/lib/python3.10/site-packages (from jsonschema->azureml-dataprep[parquet]<4.12.0a,>=4.11.3a->azureml-rag==0.1.8) (0.19.1)\n",
      "Requirement already satisfied: databricks-sdk<1,>=0.20.0 in /anaconda/envs/azureml_py38/lib/python3.10/site-packages (from mlflow-skinny->azureml-mlflow->azureml-rag==0.1.8) (0.49.0)\n",
      "Requirement already satisfied: gitpython<4,>=3.1.9 in /anaconda/envs/azureml_py38/lib/python3.10/site-packages (from mlflow-skinny->azureml-mlflow->azureml-rag==0.1.8) (3.1.44)\n",
      "Requirement already satisfied: importlib_metadata!=4.7.0,<9,>=3.7.0 in /anaconda/envs/azureml_py38/lib/python3.10/site-packages (from mlflow-skinny->azureml-mlflow->azureml-rag==0.1.8) (8.2.0)\n",
      "Requirement already satisfied: uvicorn<1 in /anaconda/envs/azureml_py38/lib/python3.10/site-packages (from mlflow-skinny->azureml-mlflow->azureml-rag==0.1.8) (0.34.0)\n",
      "Requirement already satisfied: protobuf<6,>=3.12.0 in /anaconda/envs/azureml_py38/lib/python3.10/site-packages (from mlflow-skinny->azureml-mlflow->azureml-rag==0.1.8) (4.25.6)\n",
      "Requirement already satisfied: opentelemetry-api<3,>=1.9.0 in /anaconda/envs/azureml_py38/lib/python3.10/site-packages (from mlflow-skinny->azureml-mlflow->azureml-rag==0.1.8) (1.31.1)\n",
      "Requirement already satisfied: fastapi<1 in /anaconda/envs/azureml_py38/lib/python3.10/site-packages (from mlflow-skinny->azureml-mlflow->azureml-rag==0.1.8) (0.115.12)\n",
      "Requirement already satisfied: cachetools<6,>=5.0.0 in /anaconda/envs/azureml_py38/lib/python3.10/site-packages (from mlflow-skinny->azureml-mlflow->azureml-rag==0.1.8) (5.5.2)\n",
      "Requirement already satisfied: click<9,>=7.0 in /anaconda/envs/azureml_py38/lib/python3.10/site-packages (from mlflow-skinny->azureml-mlflow->azureml-rag==0.1.8) (8.1.8)\n",
      "Requirement already satisfied: sqlparse<1,>=0.4.0 in /anaconda/envs/azureml_py38/lib/python3.10/site-packages (from mlflow-skinny->azureml-mlflow->azureml-rag==0.1.8) (0.5.3)\n",
      "Requirement already satisfied: opentelemetry-sdk<3,>=1.9.0 in /anaconda/envs/azureml_py38/lib/python3.10/site-packages (from mlflow-skinny->azureml-mlflow->azureml-rag==0.1.8) (1.31.1)\n",
      "Requirement already satisfied: pycparser in /anaconda/envs/azureml_py38/lib/python3.10/site-packages (from cffi>=1.12->cryptography->azureml-mlflow->azureml-rag==0.1.8) (2.22)\n",
      "Requirement already satisfied: google-auth~=2.0 in /anaconda/envs/azureml_py38/lib/python3.10/site-packages (from databricks-sdk<1,>=0.20.0->mlflow-skinny->azureml-mlflow->azureml-rag==0.1.8) (2.38.0)\n",
      "Requirement already satisfied: starlette<0.47.0,>=0.40.0 in /anaconda/envs/azureml_py38/lib/python3.10/site-packages (from fastapi<1->mlflow-skinny->azureml-mlflow->azureml-rag==0.1.8) (0.46.1)\n",
      "Requirement already satisfied: gitdb<5,>=4.0.1 in /anaconda/envs/azureml_py38/lib/python3.10/site-packages (from gitpython<4,>=3.1.9->mlflow-skinny->azureml-mlflow->azureml-rag==0.1.8) (4.0.12)\n",
      "Requirement already satisfied: anyio in /anaconda/envs/azureml_py38/lib/python3.10/site-packages (from httpx<1,>=0.23.0->langsmith<0.4,>=0.1.17->langchain!=0.0.174,>=0.0.149->azureml-rag==0.1.8) (4.9.0)\n",
      "Requirement already satisfied: httpcore==1.* in /anaconda/envs/azureml_py38/lib/python3.10/site-packages (from httpx<1,>=0.23.0->langsmith<0.4,>=0.1.17->langchain!=0.0.174,>=0.0.149->azureml-rag==0.1.8) (1.0.8)\n",
      "Requirement already satisfied: h11<0.15,>=0.13 in /anaconda/envs/azureml_py38/lib/python3.10/site-packages (from httpcore==1.*->httpx<1,>=0.23.0->langsmith<0.4,>=0.1.17->langchain!=0.0.174,>=0.0.149->azureml-rag==0.1.8) (0.14.0)\n",
      "Requirement already satisfied: zipp>=0.5 in /anaconda/envs/azureml_py38/lib/python3.10/site-packages (from importlib_metadata!=4.7.0,<9,>=3.7.0->mlflow-skinny->azureml-mlflow->azureml-rag==0.1.8) (3.19.2)\n",
      "Requirement already satisfied: jsonpointer>=1.9 in /anaconda/envs/azureml_py38/lib/python3.10/site-packages (from jsonpatch<2.0,>=1.33->langchain-core<1.0.0,>=0.3.58->langchain!=0.0.174,>=0.0.149->azureml-rag==0.1.8) (3.0.0)\n",
      "Requirement already satisfied: deprecated>=1.2.6 in /anaconda/envs/azureml_py38/lib/python3.10/site-packages (from opentelemetry-api<3,>=1.9.0->mlflow-skinny->azureml-mlflow->azureml-rag==0.1.8) (1.2.18)\n",
      "Requirement already satisfied: opentelemetry-semantic-conventions==0.52b1 in /anaconda/envs/azureml_py38/lib/python3.10/site-packages (from opentelemetry-sdk<3,>=1.9.0->mlflow-skinny->azureml-mlflow->azureml-rag==0.1.8) (0.52b1)\n",
      "Requirement already satisfied: wrapt<2,>=1.10 in /anaconda/envs/azureml_py38/lib/python3.10/site-packages (from deprecated>=1.2.6->opentelemetry-api<3,>=1.9.0->mlflow-skinny->azureml-mlflow->azureml-rag==0.1.8) (1.14.1)\n",
      "Requirement already satisfied: smmap<6,>=3.0.1 in /anaconda/envs/azureml_py38/lib/python3.10/site-packages (from gitdb<5,>=4.0.1->gitpython<4,>=3.1.9->mlflow-skinny->azureml-mlflow->azureml-rag==0.1.8) (5.0.2)\n",
      "Requirement already satisfied: pyasn1-modules>=0.2.1 in /anaconda/envs/azureml_py38/lib/python3.10/site-packages (from google-auth~=2.0->databricks-sdk<1,>=0.20.0->mlflow-skinny->azureml-mlflow->azureml-rag==0.1.8) (0.4.2)\n",
      "Requirement already satisfied: rsa<5,>=3.1.4 in /anaconda/envs/azureml_py38/lib/python3.10/site-packages (from google-auth~=2.0->databricks-sdk<1,>=0.20.0->mlflow-skinny->azureml-mlflow->azureml-rag==0.1.8) (4.9)\n",
      "Requirement already satisfied: sniffio>=1.1 in /anaconda/envs/azureml_py38/lib/python3.10/site-packages (from anyio->httpx<1,>=0.23.0->langsmith<0.4,>=0.1.17->langchain!=0.0.174,>=0.0.149->azureml-rag==0.1.8) (1.3.1)\n",
      "Requirement already satisfied: exceptiongroup>=1.0.2 in /anaconda/envs/azureml_py38/lib/python3.10/site-packages (from anyio->httpx<1,>=0.23.0->langsmith<0.4,>=0.1.17->langchain!=0.0.174,>=0.0.149->azureml-rag==0.1.8) (1.2.2)\n",
      "Installing collected packages: azureml-dataprep-rslex, azureml-dataprep-native, tiktoken, azure-storage-blob, azureml-dataprep, azureml-fsspec, azureml-rag\n",
      "  Attempting uninstall: azureml-dataprep-rslex\n",
      "    Found existing installation: azureml-dataprep-rslex 2.22.5\n",
      "    Uninstalling azureml-dataprep-rslex-2.22.5:\n",
      "      Successfully uninstalled azureml-dataprep-rslex-2.22.5\n",
      "  Attempting uninstall: azureml-dataprep-native\n",
      "    Found existing installation: azureml-dataprep-native 41.0.0\n",
      "    Uninstalling azureml-dataprep-native-41.0.0:\n",
      "      Successfully uninstalled azureml-dataprep-native-41.0.0\n",
      "  Attempting uninstall: tiktoken\n",
      "    Found existing installation: tiktoken 0.9.0\n",
      "    Uninstalling tiktoken-0.9.0:\n",
      "      Successfully uninstalled tiktoken-0.9.0\n",
      "  Attempting uninstall: azure-storage-blob\n",
      "    Found existing installation: azure-storage-blob 12.25.1\n",
      "    Uninstalling azure-storage-blob-12.25.1:\n",
      "      Successfully uninstalled azure-storage-blob-12.25.1\n",
      "  Attempting uninstall: azureml-dataprep\n",
      "    Found existing installation: azureml-dataprep 5.1.6\n",
      "    Uninstalling azureml-dataprep-5.1.6:\n",
      "      Successfully uninstalled azureml-dataprep-5.1.6\n",
      "  Attempting uninstall: azureml-fsspec\n",
      "    Found existing installation: azureml-fsspec 1.3.1\n",
      "    Uninstalling azureml-fsspec-1.3.1:\n",
      "      Successfully uninstalled azureml-fsspec-1.3.1\n",
      "  Attempting uninstall: azureml-rag\n",
      "    Found existing installation: azureml-rag 0.2.39\n",
      "    Uninstalling azureml-rag-0.2.39:\n",
      "      Successfully uninstalled azureml-rag-0.2.39\n",
      "\u001b[31mERROR: pip's dependency resolver does not currently take into account all the packages that are installed. This behaviour is the source of the following dependency conflicts.\n",
      "azureml-dataset-runtime 1.60.0 requires azureml-dataprep<5.2.0a,>=5.1.0a, but you have azureml-dataprep 4.11.7 which is incompatible.\n",
      "azureml-dataset-runtime 1.60.0 requires numpy!=1.19.3,<1.24; sys_platform == \"linux\", but you have numpy 2.2.6 which is incompatible.\n",
      "azureml-automl-runtime 1.60.0 requires numpy<=1.23.5,>=1.16.0; python_version >= \"3.8\", but you have numpy 2.2.6 which is incompatible.\n",
      "azureml-automl-runtime 1.60.0 requires psutil<5.9.4,>=5.2.2, but you have psutil 7.0.0 which is incompatible.\n",
      "azureml-automl-dnn-nlp 1.60.0 requires torch==2.2.2, but you have torch 2.6.0 which is incompatible.\n",
      "azure-storage-file-datalake 12.20.0 requires azure-storage-blob>=12.25.1, but you have azure-storage-blob 12.19.0 which is incompatible.\n",
      "adlfs 2024.12.0 requires fsspec>=2023.12.0, but you have fsspec 2023.10.0 which is incompatible.\u001b[0m\u001b[31m\n",
      "\u001b[0mSuccessfully installed azure-storage-blob-12.19.0 azureml-dataprep-4.11.7 azureml-dataprep-native-38.0.0 azureml-dataprep-rslex-2.18.7 azureml-fsspec-1.1.1 azureml-rag-0.1.8 tiktoken-0.3.3\n"
     ]
    }
   ],
   "source": [
    "\"\"\"!conda deactivate\n",
    "!conda create -n my_rag_env python=3.10 -y\n",
    "!conda activate my_rag_env\n",
    "!pip install azure-ai-ml[rag,promptflow] --upgrade --no-cache-dir -y\n",
    "!pip install azure-ai-ml\n",
    "!pip install -U 'azureml-rag[faiss,hugging_face]>=0.2.36'\n",
    "!pip install azureml-rag==0.1.8\n",
    "\"\"\"\n"
   ]
  },
  {
   "cell_type": "code",
   "execution_count": 7,
   "metadata": {
    "gather": {
     "logged": 1749230646830
    }
   },
   "outputs": [
    {
     "name": "stdout",
     "output_type": "stream",
     "text": [
      "1.23.5\n"
     ]
    }
   ],
   "source": [
    "import numpy\n",
    "import pandas\n",
    "print(numpy.__version__)\n",
    "#print(pandas.__version__)\n",
    "\n"
   ]
  },
  {
   "cell_type": "markdown",
   "metadata": {},
   "source": [
    "## **2. Configure Azure Machine Learning Workspace**"
   ]
  },
  {
   "cell_type": "markdown",
   "metadata": {},
   "source": [
    "### Get client for AzureML Workspace"
   ]
  },
  {
   "cell_type": "code",
   "execution_count": 8,
   "metadata": {
    "gather": {
     "logged": 1749230663963
    }
   },
   "outputs": [],
   "source": [
    "# Import necessary AzureML and authentication libraries\n",
    "from azure.identity import DefaultAzureCredential, InteractiveBrowserCredential\n",
    "from azure.ai.ml import MLClient\n",
    "from azureml.core import Workspace"
   ]
  },
  {
   "cell_type": "code",
   "execution_count": 9,
   "metadata": {
    "gather": {
     "logged": 1749230665469
    }
   },
   "outputs": [],
   "source": [
    "# Define workspace configuration (replace with your details)\n",
    "workspace_config = {\n",
    "    \"subscription_id\": \"f7694127-2f65-4c53-aaef-a2750f7337d3\",  # Replace with your Azure subscription ID\n",
    "    \"resource_group\": \"defalt_resource_group\",    # Replace with your Azure resource group name\n",
    "    \"workspace_name\": \"FitwellWorkspace\"     # Replace with your AzureML workspace name\n",
    "}"
   ]
  },
  {
   "cell_type": "code",
   "execution_count": 10,
   "metadata": {},
   "outputs": [
    {
     "name": "stdout",
     "output_type": "stream",
     "text": [
      "Overwriting workspace.json\n"
     ]
    }
   ],
   "source": [
    "%%writefile workspace.json\n",
    "{\n",
    "    \"subscription_id\": \"f7694127-2f65-4c53-aaef-a2750f7337d3\",\n",
    "    \"resource_group\": \"defalt_resource_group\",\n",
    "    \"workspace_name\": \"FitwellWorkspace\"\n",
    "}"
   ]
  },
  {
   "cell_type": "code",
   "execution_count": 11,
   "metadata": {},
   "outputs": [
    {
     "name": "stdout",
     "output_type": "stream",
     "text": [
      "Overwriting config.json\n"
     ]
    }
   ],
   "source": [
    "%%writefile config.json\n",
    "{\n",
    "    \"AZURE_OPENAI_ENDPOINT\":\"https://test-moadel-openai-12345.openai.azure.com/\",\n",
    "    \"AZURE_OPENAI_KEY\":\"YOUR_AZURE_OPENAI_API_KEY_HERE\",\n",
    "    \"AZURE_OPENAI_APIVERSION\":\"2025-01-01-preview\",\n",
    "    \"CHATGPT_MODEL\":\"gpt-4o-mini\"\n",
    "}"
   ]
  },
  {
   "cell_type": "code",
   "execution_count": 12,
   "metadata": {
    "gather": {
     "logged": 1749230688441
    }
   },
   "outputs": [
    {
     "name": "stderr",
     "output_type": "stream",
     "text": [
      "Found the config file in: workspace.json\n",
      "Overriding of current TracerProvider is not allowed\n",
      "Overriding of current LoggerProvider is not allowed\n",
      "Overriding of current MeterProvider is not allowed\n",
      "Attempting to instrument while already instrumented\n",
      "Attempting to instrument while already instrumented\n",
      "Attempting to instrument while already instrumented\n",
      "Attempting to instrument while already instrumented\n",
      "Attempting to instrument while already instrumented\n"
     ]
    },
    {
     "name": "stdout",
     "output_type": "stream",
     "text": [
      "MLClient(credential=<azure.ai.ml.identity._credentials.aml_on_behalf_of.AzureMLOnBehalfOfCredential object at 0x75d3fd1424a0>,\n",
      "         subscription_id=f7694127-2f65-4c53-aaef-a2750f7337d3,\n",
      "         resource_group_name=defalt_resource_group,\n",
      "         workspace_name=FitwellWorkspace)\n"
     ]
    }
   ],
   "source": [
    "# Initialize credentials for Azure authentication\n",
    "try:\n",
    "    credential = DefaultAzureCredential()\n",
    "    # Check if given credential can get token successfully.\n",
    "    credential.get_token(\"https://management.azure.com/.default\")\n",
    "except Exception as ex:\n",
    "    # Fall back to InteractiveBrowserCredential in case DefaultAzureCredential not work\n",
    "    credential = InteractiveBrowserCredential()\n",
    "\n",
    "\n",
    "from azure.ai.ml.identity import AzureMLOnBehalfOfCredential  # auto for ML notebooks\n",
    "\n",
    "credential = AzureMLOnBehalfOfCredential()\n",
    "# Initialize the MLClient to connect with AzureML\n",
    "ml_client = MLClient.from_config(credential=credential, path=\"workspace.json\")\n",
    "\n",
    "\n",
    "\n",
    "# Create an AzureML Workspace object\n",
    "ws = Workspace(\n",
    "    subscription_id=ml_client.subscription_id,\n",
    "    resource_group=ml_client.resource_group_name,\n",
    "    workspace_name=ml_client.workspace_name,\n",
    ")\n",
    "\n",
    "\n",
    "# Verify the client and workspace details\n",
    "print(ml_client)"
   ]
  },
  {
   "cell_type": "code",
   "execution_count": 62,
   "metadata": {
    "gather": {
     "logged": 1749229778452
    }
   },
   "outputs": [
    {
     "name": "stderr",
     "output_type": "stream",
     "text": [
      "Overriding of current TracerProvider is not allowed\n",
      "Overriding of current LoggerProvider is not allowed\n",
      "Overriding of current MeterProvider is not allowed\n",
      "Attempting to instrument while already instrumented\n",
      "Attempting to instrument while already instrumented\n",
      "Attempting to instrument while already instrumented\n",
      "Attempting to instrument while already instrumented\n",
      "Attempting to instrument while already instrumented\n"
     ]
    }
   ],
   "source": []
  },
  {
   "attachments": {},
   "cell_type": "markdown",
   "metadata": {},
   "source": [
    "## **3. Register the Reports Dataset as a Data Asset**"
   ]
  },
  {
   "cell_type": "markdown",
   "metadata": {},
   "source": [
    "Register the dataset in AzureML for further processing."
   ]
  },
  {
   "cell_type": "code",
   "execution_count": 13,
   "metadata": {
    "gather": {
     "logged": 1749230694967
    }
   },
   "outputs": [],
   "source": [
    "# Import libraries for data registration\n",
    "from azure.ai.ml.entities import Data\n",
    "from azure.ai.ml.constants import AssetTypes\n",
    "import zipfile\n",
    "import os\n",
    "\n",
    "# Path to the ZIP file containing Tesla annual reports\n",
    "zip_file_path = 'MedicalDiagnosisManuals.zip'\n",
    "\n",
    "# Directory to extract the reports\n",
    "extract_to_directory = './extracted_dataset_reports'\n",
    "os.makedirs(extract_to_directory, exist_ok=True)\n",
    "\n",
    "# Extract the ZIP file containing the reports\n",
    "with zipfile.ZipFile(zip_file_path, 'r') as zip_ref:\n",
    "    zip_ref.extractall(extract_to_directory)\n"
   ]
  },
  {
   "cell_type": "code",
   "execution_count": 15,
   "metadata": {
    "gather": {
     "logged": 1749230713319
    }
   },
   "outputs": [
    {
     "name": "stderr",
     "output_type": "stream",
     "text": [
      "Overriding of current TracerProvider is not allowed\n",
      "Overriding of current LoggerProvider is not allowed\n",
      "Overriding of current MeterProvider is not allowed\n",
      "Attempting to instrument while already instrumented\n",
      "Attempting to instrument while already instrumented\n",
      "Attempting to instrument while already instrumented\n",
      "Attempting to instrument while already instrumented\n",
      "Attempting to instrument while already instrumented\n"
     ]
    }
   ],
   "source": [
    "from azure.identity import InteractiveBrowserCredential\n",
    "ml_client = MLClient(\n",
    "    DefaultAzureCredential(),\n",
    "    subscription_id=\"f7694127-2f65-4c53-aaef-a2750f7337d3\",\n",
    "    resource_group_name=\"defalt_resource_group\",\n",
    "    workspace_name=\"FitwellWorkspace\"\n",
    ")\n"
   ]
  },
  {
   "cell_type": "code",
   "execution_count": 16,
   "metadata": {
    "gather": {
     "logged": 1749230722925
    }
   },
   "outputs": [
    {
     "name": "stdout",
     "output_type": "stream",
     "text": [
      "Data asset 'Medical-Manuals' registered successfully.\n"
     ]
    }
   ],
   "source": [
    "\n",
    "# Register the extracted data as a Data asset in AzureML\n",
    "local_data_path = extract_to_directory\n",
    "data_asset_name = \"Medical-Manuals\"\n",
    "data_asset_description = \"A collection of medical manuals used by St. Bernard's Medical Center for embedding generation and knowledge retrieval in the RAG system.\"\n",
    "\n",
    "data_asset = Data(\n",
    "    path=local_data_path,\n",
    "    type=AssetTypes.URI_FOLDER,  # Registering as a folder URI\n",
    "    description=data_asset_description,\n",
    "    name=data_asset_name\n",
    ")\n",
    "\n",
    "\n",
    "# Use the MLClient to register the data asset\n",
    "ml_client.data.create_or_update(data_asset)\n",
    "print(f\"Data asset '{data_asset.name}' registered successfully.\")\n"
   ]
  },
  {
   "cell_type": "markdown",
   "metadata": {},
   "source": [
    "## **4. Set Up Azure OpenAI Connection**"
   ]
  },
  {
   "cell_type": "markdown",
   "metadata": {},
   "source": [
    "### Run the cells under _either_ heading (OpenAI or HuggingFace) to use the respective embedding model"
   ]
  },
  {
   "cell_type": "markdown",
   "metadata": {},
   "source": [
    "#### **Note:**\n",
    "\n",
    "When selecting an embedding model, ensure consistency between the embedding model used here and the one configured for your vectorstore retriever. Using mismatched models may result in dimension mismatches, leading to errors during vector retrieval. For example:\n",
    "\n",
    "- If you use the `text-embedding-ada-002` model from Azure OpenAI for embedding creation, ensure the same model is specified for the vectorstore retriever.\n",
    "- Similarly, if using a HuggingFace model like `all-mpnet-base-v2`, configure the vectorstore retriever with this model.\n",
    "\n",
    "Maintaining alignment between the embedding model and vectorstore retriever is crucial for the proper functioning of your pipeline."
   ]
  },
  {
   "cell_type": "markdown",
   "metadata": {},
   "source": [
    "#### OpenAI"
   ]
  },
  {
   "cell_type": "code",
   "execution_count": 17,
   "metadata": {
    "gather": {
     "logged": 1749230731925
    },
    "jupyter": {
     "outputs_hidden": false,
     "source_hidden": false
    },
    "nteract": {
     "transient": {
      "deleting": false
     }
    }
   },
   "outputs": [],
   "source": [
    "# # Azure Open AI redentials and the id of the deployed chat model are stored as\n",
    "# # key value pairs in a json file\n",
    "\n",
    "with open('config.json', 'r') as az_creds:\n",
    "    data = az_creds.read()\n",
    "\n",
    "# # Credentials to authenticate to the personalized Open AI model server\n",
    "import json\n",
    "creds = json.loads(data)"
   ]
  },
  {
   "cell_type": "code",
   "execution_count": 67,
   "metadata": {
    "gather": {
     "logged": 1749229784912
    }
   },
   "outputs": [
    {
     "name": "stdout",
     "output_type": "stream",
     "text": [
      "Python Executable: /anaconda/envs/azureml_py310_sdkv2/bin/python\n",
      "Python Path: ['/anaconda/envs/azureml_py310_sdkv2/lib/python310.zip', '/anaconda/envs/azureml_py310_sdkv2/lib/python3.10', '/anaconda/envs/azureml_py310_sdkv2/lib/python3.10/lib-dynload', '', '/anaconda/envs/azureml_py310_sdkv2/lib/python3.10/site-packages', '/anaconda/envs/azureml_py310_sdkv2/lib/python3.10/site-packages/setuptools/_vendor', '/anaconda/envs/azureml_py310_sdkv2/lib/python3.10/site-packages/azureml/_project/vendor']\n"
     ]
    }
   ],
   "source": [
    "import sys\n",
    "print(\"Python Executable:\", sys.executable)\n",
    "print(\"Python Path:\", sys.path)"
   ]
  },
  {
   "cell_type": "code",
   "execution_count": 68,
   "metadata": {
    "gather": {
     "logged": 1749229786024
    }
   },
   "outputs": [
    {
     "name": "stdout",
     "output_type": "stream",
     "text": [
      "azureml-rag                                0.1.8\r\n"
     ]
    }
   ],
   "source": [
    "#pip list | grep azure-ai-ml\n",
    "!pip list | grep azureml-rag\n",
    "#pip list | grep promptflow"
   ]
  },
  {
   "cell_type": "code",
   "execution_count": 69,
   "metadata": {},
   "outputs": [
    {
     "name": "stdout",
     "output_type": "stream",
     "text": [
      "Requirement already satisfied: azureml-rag in /anaconda/envs/azureml_py38/lib/python3.10/site-packages (0.1.8)\n",
      "Requirement already satisfied: azureml-dataprep[parquet]<4.12.0a,>=4.11.3a in /anaconda/envs/azureml_py38/lib/python3.10/site-packages (from azureml-rag) (4.11.7)\n",
      "Requirement already satisfied: fsspec~=2023.3 in /anaconda/envs/azureml_py38/lib/python3.10/site-packages (from azureml-rag) (2023.10.0)\n",
      "Requirement already satisfied: pyyaml<7.0.0,>=5.1.0 in /anaconda/envs/azureml_py38/lib/python3.10/site-packages (from azureml-rag) (6.0.2)\n",
      "Requirement already satisfied: azureml-core in /anaconda/envs/azureml_py38/lib/python3.10/site-packages (from azureml-rag) (1.60.0)\n",
      "Requirement already satisfied: azureml-fsspec in /anaconda/envs/azureml_py38/lib/python3.10/site-packages (from azureml-rag) (1.1.1)\n",
      "Requirement already satisfied: tiktoken~=0.3.0 in /anaconda/envs/azureml_py38/lib/python3.10/site-packages (from azureml-rag) (0.3.3)\n",
      "Requirement already satisfied: azureml-telemetry in /anaconda/envs/azureml_py38/lib/python3.10/site-packages (from azureml-rag) (1.60.0)\n",
      "Requirement already satisfied: openai~=0.27.4 in /anaconda/envs/azureml_py38/lib/python3.10/site-packages (from azureml-rag) (0.27.10)\n",
      "Requirement already satisfied: azureml-mlflow in /anaconda/envs/azureml_py38/lib/python3.10/site-packages (from azureml-rag) (1.60.0)\n",
      "Requirement already satisfied: msrest>=0.6.18 in /anaconda/envs/azureml_py38/lib/python3.10/site-packages (from azureml-rag) (0.7.1)\n",
      "Requirement already satisfied: cloudpickle in /anaconda/envs/azureml_py38/lib/python3.10/site-packages (from azureml-rag) (1.6.0)\n",
      "Requirement already satisfied: langchain!=0.0.174,>=0.0.149 in /anaconda/envs/azureml_py38/lib/python3.10/site-packages (from azureml-rag) (0.3.25)\n",
      "Requirement already satisfied: dotnetcore2<4.0.0,>=3.0.0 in /anaconda/envs/azureml_py38/lib/python3.10/site-packages (from azureml-dataprep[parquet]<4.12.0a,>=4.11.3a->azureml-rag) (3.1.23)\n",
      "Requirement already satisfied: jsonschema in /anaconda/envs/azureml_py38/lib/python3.10/site-packages (from azureml-dataprep[parquet]<4.12.0a,>=4.11.3a->azureml-rag) (4.23.0)\n",
      "Requirement already satisfied: azureml-dataprep-rslex~=2.18.5dev0 in /anaconda/envs/azureml_py38/lib/python3.10/site-packages (from azureml-dataprep[parquet]<4.12.0a,>=4.11.3a->azureml-rag) (2.18.7)\n",
      "Requirement already satisfied: azureml-dataprep-native<39.0.0,>=38.0.0 in /anaconda/envs/azureml_py38/lib/python3.10/site-packages (from azureml-dataprep[parquet]<4.12.0a,>=4.11.3a->azureml-rag) (38.0.0)\n",
      "Requirement already satisfied: azure-identity>=1.7.0 in /anaconda/envs/azureml_py38/lib/python3.10/site-packages (from azureml-dataprep[parquet]<4.12.0a,>=4.11.3a->azureml-rag) (1.21.0)\n",
      "Requirement already satisfied: pyarrow<=9.0.0,>=0.17.0 in /anaconda/envs/azureml_py38/lib/python3.10/site-packages (from azureml-dataprep[parquet]<4.12.0a,>=4.11.3a->azureml-rag) (9.0.0)\n",
      "Requirement already satisfied: langchain-text-splitters<1.0.0,>=0.3.8 in /anaconda/envs/azureml_py38/lib/python3.10/site-packages (from langchain!=0.0.174,>=0.0.149->azureml-rag) (0.3.8)\n",
      "Requirement already satisfied: langchain-core<1.0.0,>=0.3.58 in /anaconda/envs/azureml_py38/lib/python3.10/site-packages (from langchain!=0.0.174,>=0.0.149->azureml-rag) (0.3.64)\n",
      "Requirement already satisfied: pydantic<3.0.0,>=2.7.4 in /anaconda/envs/azureml_py38/lib/python3.10/site-packages (from langchain!=0.0.174,>=0.0.149->azureml-rag) (2.9.2)\n",
      "Requirement already satisfied: requests<3,>=2 in /anaconda/envs/azureml_py38/lib/python3.10/site-packages (from langchain!=0.0.174,>=0.0.149->azureml-rag) (2.32.3)\n",
      "Requirement already satisfied: async-timeout<5.0.0,>=4.0.0 in /anaconda/envs/azureml_py38/lib/python3.10/site-packages (from langchain!=0.0.174,>=0.0.149->azureml-rag) (4.0.3)\n",
      "Requirement already satisfied: SQLAlchemy<3,>=1.4 in /anaconda/envs/azureml_py38/lib/python3.10/site-packages (from langchain!=0.0.174,>=0.0.149->azureml-rag) (2.0.41)\n",
      "Requirement already satisfied: langsmith<0.4,>=0.1.17 in /anaconda/envs/azureml_py38/lib/python3.10/site-packages (from langchain!=0.0.174,>=0.0.149->azureml-rag) (0.3.45)\n",
      "Requirement already satisfied: requests-oauthlib>=0.5.0 in /anaconda/envs/azureml_py38/lib/python3.10/site-packages (from msrest>=0.6.18->azureml-rag) (2.0.0)\n",
      "Requirement already satisfied: azure-core>=1.24.0 in /anaconda/envs/azureml_py38/lib/python3.10/site-packages (from msrest>=0.6.18->azureml-rag) (1.33.0)\n",
      "Requirement already satisfied: isodate>=0.6.0 in /anaconda/envs/azureml_py38/lib/python3.10/site-packages (from msrest>=0.6.18->azureml-rag) (0.7.2)\n",
      "Requirement already satisfied: certifi>=2017.4.17 in /anaconda/envs/azureml_py38/lib/python3.10/site-packages (from msrest>=0.6.18->azureml-rag) (2025.1.31)\n",
      "Requirement already satisfied: aiohttp in /anaconda/envs/azureml_py38/lib/python3.10/site-packages (from openai~=0.27.4->azureml-rag) (3.11.16)\n",
      "Requirement already satisfied: tqdm in /anaconda/envs/azureml_py38/lib/python3.10/site-packages (from openai~=0.27.4->azureml-rag) (4.67.1)\n",
      "Requirement already satisfied: regex>=2022.1.18 in /anaconda/envs/azureml_py38/lib/python3.10/site-packages (from tiktoken~=0.3.0->azureml-rag) (2024.11.6)\n",
      "Requirement already satisfied: azure-mgmt-keyvault<11.0.0,>=0.40.0 in /anaconda/envs/azureml_py38/lib/python3.10/site-packages (from azureml-core->azureml-rag) (10.3.1)\n",
      "Requirement already satisfied: pkginfo in /anaconda/envs/azureml_py38/lib/python3.10/site-packages (from azureml-core->azureml-rag) (1.12.1.2)\n",
      "Requirement already satisfied: humanfriendly<11.0,>=4.7 in /anaconda/envs/azureml_py38/lib/python3.10/site-packages (from azureml-core->azureml-rag) (10.0)\n",
      "Requirement already satisfied: packaging<=25.0,>=20.0 in /anaconda/envs/azureml_py38/lib/python3.10/site-packages (from azureml-core->azureml-rag) (24.2)\n",
      "Requirement already satisfied: pytz in /anaconda/envs/azureml_py38/lib/python3.10/site-packages (from azureml-core->azureml-rag) (2022.5)\n",
      "Requirement already satisfied: msal<2.0.0,>=1.15.0 in /anaconda/envs/azureml_py38/lib/python3.10/site-packages (from azureml-core->azureml-rag) (1.31.2b1)\n",
      "Requirement already satisfied: pathspec<1.0.0 in /anaconda/envs/azureml_py38/lib/python3.10/site-packages (from azureml-core->azureml-rag) (0.12.1)\n",
      "Requirement already satisfied: msal-extensions<=2.0.0,>=0.3.0 in /anaconda/envs/azureml_py38/lib/python3.10/site-packages (from azureml-core->azureml-rag) (1.2.0)\n",
      "Requirement already satisfied: SecretStorage<4.0.0 in /anaconda/envs/azureml_py38/lib/python3.10/site-packages (from azureml-core->azureml-rag) (3.3.3)\n",
      "Requirement already satisfied: pyopenssl<26.0.0 in /anaconda/envs/azureml_py38/lib/python3.10/site-packages (from azureml-core->azureml-rag) (23.0.0)\n",
      "Requirement already satisfied: azure-mgmt-network<=29.0.0 in /anaconda/envs/azureml_py38/lib/python3.10/site-packages (from azureml-core->azureml-rag) (26.0.0)\n",
      "Requirement already satisfied: docker<8.0.0 in /anaconda/envs/azureml_py38/lib/python3.10/site-packages (from azureml-core->azureml-rag) (7.1.0)\n",
      "Requirement already satisfied: azure-mgmt-containerregistry<11,>=8.2.0 in /anaconda/envs/azureml_py38/lib/python3.10/site-packages (from azureml-core->azureml-rag) (10.3.0)\n",
      "Requirement already satisfied: jmespath<2.0.0 in /anaconda/envs/azureml_py38/lib/python3.10/site-packages (from azureml-core->azureml-rag) (0.10.0)\n",
      "Requirement already satisfied: contextlib2<22.0.0 in /anaconda/envs/azureml_py38/lib/python3.10/site-packages (from azureml-core->azureml-rag) (21.6.0)\n",
      "Requirement already satisfied: argcomplete<4 in /anaconda/envs/azureml_py38/lib/python3.10/site-packages (from azureml-core->azureml-rag) (3.5.3)\n",
      "Requirement already satisfied: adal<=1.2.7,>=1.2.0 in /anaconda/envs/azureml_py38/lib/python3.10/site-packages (from azureml-core->azureml-rag) (1.2.7)\n",
      "Requirement already satisfied: PyJWT<3.0.0 in /anaconda/envs/azureml_py38/lib/python3.10/site-packages (from azureml-core->azureml-rag) (2.4.0)\n",
      "Requirement already satisfied: urllib3<3.0.0,>1.26.17 in /anaconda/envs/azureml_py38/lib/python3.10/site-packages (from azureml-core->azureml-rag) (1.26.20)\n",
      "Requirement already satisfied: azure-mgmt-storage<=23.0.0,>=16.0.0 in /anaconda/envs/azureml_py38/lib/python3.10/site-packages (from azureml-core->azureml-rag) (22.0.0)\n",
      "Requirement already satisfied: msrestazure<=0.7,>=0.4.33 in /anaconda/envs/azureml_py38/lib/python3.10/site-packages (from azureml-core->azureml-rag) (0.6.4.post1)\n",
      "Requirement already satisfied: python-dateutil<3.0.0,>=2.7.3 in /anaconda/envs/azureml_py38/lib/python3.10/site-packages (from azureml-core->azureml-rag) (2.9.0.post0)\n",
      "Requirement already satisfied: knack<0.13.0 in /anaconda/envs/azureml_py38/lib/python3.10/site-packages (from azureml-core->azureml-rag) (0.11.0)\n",
      "Requirement already satisfied: azure-mgmt-authorization<5,>=0.40.0 in /anaconda/envs/azureml_py38/lib/python3.10/site-packages (from azureml-core->azureml-rag) (4.0.0)\n",
      "Requirement already satisfied: ndg-httpsclient<=0.5.1 in /anaconda/envs/azureml_py38/lib/python3.10/site-packages (from azureml-core->azureml-rag) (0.5.1)\n",
      "Requirement already satisfied: azure-common<2.0.0,>=1.1.12 in /anaconda/envs/azureml_py38/lib/python3.10/site-packages (from azureml-core->azureml-rag) (1.1.28)\n",
      "Requirement already satisfied: azure-graphrbac<1.0.0,>=0.40.0 in /anaconda/envs/azureml_py38/lib/python3.10/site-packages (from azureml-core->azureml-rag) (0.60.0)\n",
      "Requirement already satisfied: backports.tempfile in /anaconda/envs/azureml_py38/lib/python3.10/site-packages (from azureml-core->azureml-rag) (1.0)\n",
      "Requirement already satisfied: paramiko<4.0.0,>=2.0.8 in /anaconda/envs/azureml_py38/lib/python3.10/site-packages (from azureml-core->azureml-rag) (3.5.1)\n",
      "Requirement already satisfied: azure-mgmt-resource<=24.0.0,>=15.0.0 in /anaconda/envs/azureml_py38/lib/python3.10/site-packages (from azureml-core->azureml-rag) (23.1.1)\n",
      "Requirement already satisfied: jsonpickle<5.0.0 in /anaconda/envs/azureml_py38/lib/python3.10/site-packages (from azureml-core->azureml-rag) (4.0.5)\n",
      "Requirement already satisfied: mlflow-skinny in /anaconda/envs/azureml_py38/lib/python3.10/site-packages (from azureml-mlflow->azureml-rag) (2.21.3)\n",
      "Requirement already satisfied: cryptography in /anaconda/envs/azureml_py38/lib/python3.10/site-packages (from azureml-mlflow->azureml-rag) (38.0.4)\n",
      "Requirement already satisfied: azure-mgmt-core<2.0.0,>=1.2.0 in /anaconda/envs/azureml_py38/lib/python3.10/site-packages (from azureml-mlflow->azureml-rag) (1.5.0)\n",
      "Collecting azure-storage-blob<=12.19.0,>=12.5.0\n",
      "  Using cached azure_storage_blob-12.19.0-py3-none-any.whl (394 kB)\n",
      "Requirement already satisfied: applicationinsights in /anaconda/envs/azureml_py38/lib/python3.10/site-packages (from azureml-telemetry->azureml-rag) (0.11.10)\n",
      "Requirement already satisfied: typing-extensions>=4.6.0 in /anaconda/envs/azureml_py38/lib/python3.10/site-packages (from azure-core>=1.24.0->msrest>=0.6.18->azureml-rag) (4.13.2)\n",
      "Requirement already satisfied: six>=1.11.0 in /anaconda/envs/azureml_py38/lib/python3.10/site-packages (from azure-core>=1.24.0->msrest>=0.6.18->azureml-rag) (1.17.0)\n",
      "Requirement already satisfied: cffi>=1.12 in /anaconda/envs/azureml_py38/lib/python3.10/site-packages (from cryptography->azureml-mlflow->azureml-rag) (1.17.1)\n",
      "Requirement already satisfied: distro>=1.2.0 in /anaconda/envs/azureml_py38/lib/python3.10/site-packages (from dotnetcore2<4.0.0,>=3.0.0->azureml-dataprep[parquet]<4.12.0a,>=4.11.3a->azureml-rag) (1.9.0)\n",
      "Requirement already satisfied: pygments in /anaconda/envs/azureml_py38/lib/python3.10/site-packages (from knack<0.13.0->azureml-core->azureml-rag) (2.19.1)\n",
      "Requirement already satisfied: tabulate in /anaconda/envs/azureml_py38/lib/python3.10/site-packages (from knack<0.13.0->azureml-core->azureml-rag) (0.9.0)\n",
      "Requirement already satisfied: tenacity!=8.4.0,<10.0.0,>=8.1.0 in /anaconda/envs/azureml_py38/lib/python3.10/site-packages (from langchain-core<1.0.0,>=0.3.58->langchain!=0.0.174,>=0.0.149->azureml-rag) (9.1.2)\n",
      "Requirement already satisfied: jsonpatch<2.0,>=1.33 in /anaconda/envs/azureml_py38/lib/python3.10/site-packages (from langchain-core<1.0.0,>=0.3.58->langchain!=0.0.174,>=0.0.149->azureml-rag) (1.33)\n",
      "Requirement already satisfied: orjson<4.0.0,>=3.9.14 in /anaconda/envs/azureml_py38/lib/python3.10/site-packages (from langsmith<0.4,>=0.1.17->langchain!=0.0.174,>=0.0.149->azureml-rag) (3.10.18)\n",
      "Requirement already satisfied: requests-toolbelt<2.0.0,>=1.0.0 in /anaconda/envs/azureml_py38/lib/python3.10/site-packages (from langsmith<0.4,>=0.1.17->langchain!=0.0.174,>=0.0.149->azureml-rag) (1.0.0)\n",
      "Requirement already satisfied: httpx<1,>=0.23.0 in /anaconda/envs/azureml_py38/lib/python3.10/site-packages (from langsmith<0.4,>=0.1.17->langchain!=0.0.174,>=0.0.149->azureml-rag) (0.28.1)\n",
      "Requirement already satisfied: zstandard<0.24.0,>=0.23.0 in /anaconda/envs/azureml_py38/lib/python3.10/site-packages (from langsmith<0.4,>=0.1.17->langchain!=0.0.174,>=0.0.149->azureml-rag) (0.23.0)\n",
      "Requirement already satisfied: portalocker<3,>=1.4 in /anaconda/envs/azureml_py38/lib/python3.10/site-packages (from msal-extensions<=2.0.0,>=0.3.0->azureml-core->azureml-rag) (2.10.1)\n",
      "Requirement already satisfied: pyasn1>=0.1.1 in /anaconda/envs/azureml_py38/lib/python3.10/site-packages (from ndg-httpsclient<=0.5.1->azureml-core->azureml-rag) (0.6.1)\n",
      "Requirement already satisfied: bcrypt>=3.2 in /anaconda/envs/azureml_py38/lib/python3.10/site-packages (from paramiko<4.0.0,>=2.0.8->azureml-core->azureml-rag) (4.3.0)\n",
      "Requirement already satisfied: pynacl>=1.5 in /anaconda/envs/azureml_py38/lib/python3.10/site-packages (from paramiko<4.0.0,>=2.0.8->azureml-core->azureml-rag) (1.5.0)\n",
      "Requirement already satisfied: numpy>=1.16.6 in /anaconda/envs/azureml_py38/lib/python3.10/site-packages (from pyarrow<=9.0.0,>=0.17.0->azureml-dataprep[parquet]<4.12.0a,>=4.11.3a->azureml-rag) (2.2.6)\n",
      "Requirement already satisfied: annotated-types>=0.6.0 in /anaconda/envs/azureml_py38/lib/python3.10/site-packages (from pydantic<3.0.0,>=2.7.4->langchain!=0.0.174,>=0.0.149->azureml-rag) (0.7.0)\n",
      "Requirement already satisfied: pydantic-core==2.23.4 in /anaconda/envs/azureml_py38/lib/python3.10/site-packages (from pydantic<3.0.0,>=2.7.4->langchain!=0.0.174,>=0.0.149->azureml-rag) (2.23.4)\n",
      "Requirement already satisfied: idna<4,>=2.5 in /anaconda/envs/azureml_py38/lib/python3.10/site-packages (from requests<3,>=2->langchain!=0.0.174,>=0.0.149->azureml-rag) (3.10)\n",
      "Requirement already satisfied: charset-normalizer<4,>=2 in /anaconda/envs/azureml_py38/lib/python3.10/site-packages (from requests<3,>=2->langchain!=0.0.174,>=0.0.149->azureml-rag) (3.4.1)\n",
      "Requirement already satisfied: oauthlib>=3.0.0 in /anaconda/envs/azureml_py38/lib/python3.10/site-packages (from requests-oauthlib>=0.5.0->msrest>=0.6.18->azureml-rag) (3.2.2)\n",
      "Requirement already satisfied: PySocks!=1.5.7,>=1.5.6 in /anaconda/envs/azureml_py38/lib/python3.10/site-packages (from requests<3,>=2->langchain!=0.0.174,>=0.0.149->azureml-rag) (1.7.1)\n",
      "Requirement already satisfied: jeepney>=0.6 in /anaconda/envs/azureml_py38/lib/python3.10/site-packages (from SecretStorage<4.0.0->azureml-core->azureml-rag) (0.9.0)\n",
      "Requirement already satisfied: greenlet>=1 in /anaconda/envs/azureml_py38/lib/python3.10/site-packages (from SQLAlchemy<3,>=1.4->langchain!=0.0.174,>=0.0.149->azureml-rag) (3.2.1)\n",
      "Requirement already satisfied: aiohappyeyeballs>=2.3.0 in /anaconda/envs/azureml_py38/lib/python3.10/site-packages (from aiohttp->openai~=0.27.4->azureml-rag) (2.6.1)\n",
      "Requirement already satisfied: frozenlist>=1.1.1 in /anaconda/envs/azureml_py38/lib/python3.10/site-packages (from aiohttp->openai~=0.27.4->azureml-rag) (1.5.0)\n",
      "Requirement already satisfied: propcache>=0.2.0 in /anaconda/envs/azureml_py38/lib/python3.10/site-packages (from aiohttp->openai~=0.27.4->azureml-rag) (0.3.1)\n",
      "Requirement already satisfied: attrs>=17.3.0 in /anaconda/envs/azureml_py38/lib/python3.10/site-packages (from aiohttp->openai~=0.27.4->azureml-rag) (25.3.0)\n",
      "Requirement already satisfied: multidict<7.0,>=4.5 in /anaconda/envs/azureml_py38/lib/python3.10/site-packages (from aiohttp->openai~=0.27.4->azureml-rag) (6.4.3)\n",
      "Requirement already satisfied: yarl<2.0,>=1.17.0 in /anaconda/envs/azureml_py38/lib/python3.10/site-packages (from aiohttp->openai~=0.27.4->azureml-rag) (1.19.0)\n",
      "Requirement already satisfied: aiosignal>=1.1.2 in /anaconda/envs/azureml_py38/lib/python3.10/site-packages (from aiohttp->openai~=0.27.4->azureml-rag) (1.3.2)\n",
      "Requirement already satisfied: backports.weakref in /anaconda/envs/azureml_py38/lib/python3.10/site-packages (from backports.tempfile->azureml-core->azureml-rag) (1.0.post1)\n",
      "Requirement already satisfied: referencing>=0.28.4 in /anaconda/envs/azureml_py38/lib/python3.10/site-packages (from jsonschema->azureml-dataprep[parquet]<4.12.0a,>=4.11.3a->azureml-rag) (0.36.2)\n",
      "Requirement already satisfied: rpds-py>=0.7.1 in /anaconda/envs/azureml_py38/lib/python3.10/site-packages (from jsonschema->azureml-dataprep[parquet]<4.12.0a,>=4.11.3a->azureml-rag) (0.19.1)\n",
      "Requirement already satisfied: jsonschema-specifications>=2023.03.6 in /anaconda/envs/azureml_py38/lib/python3.10/site-packages (from jsonschema->azureml-dataprep[parquet]<4.12.0a,>=4.11.3a->azureml-rag) (2024.10.1)\n",
      "Requirement already satisfied: protobuf<6,>=3.12.0 in /anaconda/envs/azureml_py38/lib/python3.10/site-packages (from mlflow-skinny->azureml-mlflow->azureml-rag) (4.25.6)\n",
      "Requirement already satisfied: opentelemetry-sdk<3,>=1.9.0 in /anaconda/envs/azureml_py38/lib/python3.10/site-packages (from mlflow-skinny->azureml-mlflow->azureml-rag) (1.31.1)\n",
      "Requirement already satisfied: sqlparse<1,>=0.4.0 in /anaconda/envs/azureml_py38/lib/python3.10/site-packages (from mlflow-skinny->azureml-mlflow->azureml-rag) (0.5.3)\n",
      "Requirement already satisfied: uvicorn<1 in /anaconda/envs/azureml_py38/lib/python3.10/site-packages (from mlflow-skinny->azureml-mlflow->azureml-rag) (0.34.0)\n",
      "Requirement already satisfied: databricks-sdk<1,>=0.20.0 in /anaconda/envs/azureml_py38/lib/python3.10/site-packages (from mlflow-skinny->azureml-mlflow->azureml-rag) (0.49.0)\n",
      "Requirement already satisfied: click<9,>=7.0 in /anaconda/envs/azureml_py38/lib/python3.10/site-packages (from mlflow-skinny->azureml-mlflow->azureml-rag) (8.1.8)\n",
      "Requirement already satisfied: opentelemetry-api<3,>=1.9.0 in /anaconda/envs/azureml_py38/lib/python3.10/site-packages (from mlflow-skinny->azureml-mlflow->azureml-rag) (1.31.1)\n",
      "Requirement already satisfied: cachetools<6,>=5.0.0 in /anaconda/envs/azureml_py38/lib/python3.10/site-packages (from mlflow-skinny->azureml-mlflow->azureml-rag) (5.5.2)\n",
      "Requirement already satisfied: gitpython<4,>=3.1.9 in /anaconda/envs/azureml_py38/lib/python3.10/site-packages (from mlflow-skinny->azureml-mlflow->azureml-rag) (3.1.44)\n",
      "Requirement already satisfied: fastapi<1 in /anaconda/envs/azureml_py38/lib/python3.10/site-packages (from mlflow-skinny->azureml-mlflow->azureml-rag) (0.115.12)\n",
      "Requirement already satisfied: importlib_metadata!=4.7.0,<9,>=3.7.0 in /anaconda/envs/azureml_py38/lib/python3.10/site-packages (from mlflow-skinny->azureml-mlflow->azureml-rag) (8.2.0)\n",
      "Requirement already satisfied: pycparser in /anaconda/envs/azureml_py38/lib/python3.10/site-packages (from cffi>=1.12->cryptography->azureml-mlflow->azureml-rag) (2.22)\n",
      "Requirement already satisfied: google-auth~=2.0 in /anaconda/envs/azureml_py38/lib/python3.10/site-packages (from databricks-sdk<1,>=0.20.0->mlflow-skinny->azureml-mlflow->azureml-rag) (2.38.0)\n",
      "Requirement already satisfied: starlette<0.47.0,>=0.40.0 in /anaconda/envs/azureml_py38/lib/python3.10/site-packages (from fastapi<1->mlflow-skinny->azureml-mlflow->azureml-rag) (0.46.1)\n",
      "Requirement already satisfied: gitdb<5,>=4.0.1 in /anaconda/envs/azureml_py38/lib/python3.10/site-packages (from gitpython<4,>=3.1.9->mlflow-skinny->azureml-mlflow->azureml-rag) (4.0.12)\n",
      "Requirement already satisfied: httpcore==1.* in /anaconda/envs/azureml_py38/lib/python3.10/site-packages (from httpx<1,>=0.23.0->langsmith<0.4,>=0.1.17->langchain!=0.0.174,>=0.0.149->azureml-rag) (1.0.8)\n",
      "Requirement already satisfied: anyio in /anaconda/envs/azureml_py38/lib/python3.10/site-packages (from httpx<1,>=0.23.0->langsmith<0.4,>=0.1.17->langchain!=0.0.174,>=0.0.149->azureml-rag) (4.9.0)\n",
      "Requirement already satisfied: h11<0.15,>=0.13 in /anaconda/envs/azureml_py38/lib/python3.10/site-packages (from httpcore==1.*->httpx<1,>=0.23.0->langsmith<0.4,>=0.1.17->langchain!=0.0.174,>=0.0.149->azureml-rag) (0.14.0)\n",
      "Requirement already satisfied: zipp>=0.5 in /anaconda/envs/azureml_py38/lib/python3.10/site-packages (from importlib_metadata!=4.7.0,<9,>=3.7.0->mlflow-skinny->azureml-mlflow->azureml-rag) (3.19.2)\n",
      "Requirement already satisfied: jsonpointer>=1.9 in /anaconda/envs/azureml_py38/lib/python3.10/site-packages (from jsonpatch<2.0,>=1.33->langchain-core<1.0.0,>=0.3.58->langchain!=0.0.174,>=0.0.149->azureml-rag) (3.0.0)\n",
      "Requirement already satisfied: deprecated>=1.2.6 in /anaconda/envs/azureml_py38/lib/python3.10/site-packages (from opentelemetry-api<3,>=1.9.0->mlflow-skinny->azureml-mlflow->azureml-rag) (1.2.18)\n",
      "Requirement already satisfied: opentelemetry-semantic-conventions==0.52b1 in /anaconda/envs/azureml_py38/lib/python3.10/site-packages (from opentelemetry-sdk<3,>=1.9.0->mlflow-skinny->azureml-mlflow->azureml-rag) (0.52b1)\n",
      "Requirement already satisfied: wrapt<2,>=1.10 in /anaconda/envs/azureml_py38/lib/python3.10/site-packages (from deprecated>=1.2.6->opentelemetry-api<3,>=1.9.0->mlflow-skinny->azureml-mlflow->azureml-rag) (1.14.1)\n",
      "Requirement already satisfied: smmap<6,>=3.0.1 in /anaconda/envs/azureml_py38/lib/python3.10/site-packages (from gitdb<5,>=4.0.1->gitpython<4,>=3.1.9->mlflow-skinny->azureml-mlflow->azureml-rag) (5.0.2)\n",
      "Requirement already satisfied: pyasn1-modules>=0.2.1 in /anaconda/envs/azureml_py38/lib/python3.10/site-packages (from google-auth~=2.0->databricks-sdk<1,>=0.20.0->mlflow-skinny->azureml-mlflow->azureml-rag) (0.4.2)\n",
      "Requirement already satisfied: rsa<5,>=3.1.4 in /anaconda/envs/azureml_py38/lib/python3.10/site-packages (from google-auth~=2.0->databricks-sdk<1,>=0.20.0->mlflow-skinny->azureml-mlflow->azureml-rag) (4.9)\n",
      "Requirement already satisfied: exceptiongroup>=1.0.2 in /anaconda/envs/azureml_py38/lib/python3.10/site-packages (from anyio->httpx<1,>=0.23.0->langsmith<0.4,>=0.1.17->langchain!=0.0.174,>=0.0.149->azureml-rag) (1.2.2)\n",
      "Requirement already satisfied: sniffio>=1.1 in /anaconda/envs/azureml_py38/lib/python3.10/site-packages (from anyio->httpx<1,>=0.23.0->langsmith<0.4,>=0.1.17->langchain!=0.0.174,>=0.0.149->azureml-rag) (1.3.1)\n",
      "Installing collected packages: azure-storage-blob\n",
      "  Attempting uninstall: azure-storage-blob\n",
      "    Found existing installation: azure-storage-blob 12.25.1\n",
      "    Uninstalling azure-storage-blob-12.25.1:\n",
      "      Successfully uninstalled azure-storage-blob-12.25.1\n",
      "\u001b[31mERROR: pip's dependency resolver does not currently take into account all the packages that are installed. This behaviour is the source of the following dependency conflicts.\n",
      "azure-storage-file-datalake 12.20.0 requires azure-storage-blob>=12.25.1, but you have azure-storage-blob 12.19.0 which is incompatible.\n",
      "adlfs 2024.12.0 requires fsspec>=2023.12.0, but you have fsspec 2023.10.0 which is incompatible.\u001b[0m\u001b[31m\n",
      "\u001b[0mSuccessfully installed azure-storage-blob-12.19.0\n"
     ]
    }
   ],
   "source": [
    "!pip install azureml-rag\n"
   ]
  },
  {
   "cell_type": "code",
   "execution_count": 18,
   "metadata": {
    "gather": {
     "logged": 1749230744087
    }
   },
   "outputs": [
    {
     "name": "stdout",
     "output_type": "stream",
     "text": [
      "['__builtins__', '__cached__', '__doc__', '__file__', '__loader__', '__name__', '__package__', '__path__', '__spec__', '_async', '_base_sdk_common', '_common', '_compute', '_file_utils', '_history', '_html', '_logging', '_model_management', '_project', '_restclient', '_run_impl', '_tracing', '_vendor', '_workspace', 'core', 'data', 'exceptions', 'history']\n"
     ]
    }
   ],
   "source": [
    "import azureml\n",
    "print(dir(azureml))\n"
   ]
  },
  {
   "cell_type": "code",
   "execution_count": 71,
   "metadata": {},
   "outputs": [
    {
     "name": "stdout",
     "output_type": "stream",
     "text": [
      "/anaconda/envs/azureml_py38/bin//python\r\n"
     ]
    }
   ],
   "source": [
    "!which python"
   ]
  },
  {
   "cell_type": "code",
   "execution_count": null,
   "metadata": {
    "gather": {
     "logged": 1749230755653
    }
   },
   "outputs": [
    {
     "ename": "ModuleNotFoundError",
     "evalue": "No module named 'azureml.rag'",
     "output_type": "error",
     "traceback": [
      "\u001b[0;31m---------------------------------------------------------------------------\u001b[0m",
      "\u001b[0;31mModuleNotFoundError\u001b[0m                       Traceback (most recent call last)",
      "Cell \u001b[0;32mIn[19], line 1\u001b[0m\n\u001b[0;32m----> 1\u001b[0m \u001b[38;5;28;01mfrom\u001b[39;00m\u001b[38;5;250m \u001b[39m\u001b[38;5;21;01mazureml\u001b[39;00m\u001b[38;5;21;01m.\u001b[39;00m\u001b[38;5;21;01mrag\u001b[39;00m\u001b[38;5;21;01m.\u001b[39;00m\u001b[38;5;21;01mutils\u001b[39;00m\u001b[38;5;21;01m.\u001b[39;00m\u001b[38;5;21;01mconnections\u001b[39;00m\u001b[38;5;250m \u001b[39m\u001b[38;5;28;01mimport\u001b[39;00m get_connection_by_name_v2, create_connection_v2\n\u001b[1;32m      3\u001b[0m \u001b[38;5;66;03m# # Define the connection name for Azure OpenAI\u001b[39;00m\n\u001b[1;32m      4\u001b[0m aoai_connection_name \u001b[38;5;241m=\u001b[39m \u001b[38;5;124m\"\u001b[39m\u001b[38;5;124mCustom_AzureOpenAI_Connection\u001b[39m\u001b[38;5;124m\"\u001b[39m\n",
      "\u001b[0;31mModuleNotFoundError\u001b[0m: No module named 'azureml.rag'"
     ]
    }
   ],
   "source": [
    "from azureml.rag.utils.connections import get_connection_by_name_v2, create_connection_v2\n",
    "\n",
    "# # Define the connection name for Azure OpenAI\n",
    "aoai_connection_name = \"Custom_AzureOpenAI_Connection\"\n",
    "\n",
    "# # If the connection doesn't exist, create a new one\n",
    "target = \"https://test-moadel-openai-12345.openai.azure.com/\"  # Replace with your Azure OpenAI endpoint\n",
    "key = \"YOUR_AZURE_OPENAI_API_KEY_HERE\"          # Replace with your Azure OpenAI API key\n",
    "api_version = \"2025-01-01-preview\"    # Replace with the appropriate API version\n",
    "\n",
    "aoai_connection = create_connection_v2(\n",
    "    workspace=ws,\n",
    "    name=aoai_connection_name,\n",
    "    category=\"AzureOpenAI\",\n",
    "    target=target,\n",
    "    auth_type=\"ApiKey\",\n",
    "    credentials={\"key\": key},\n",
    "    metadata={\"ApiType\": \"azure\", \"ApiVersion\": api_version},\n",
    ")\n",
    "\n",
    "aoai_connection_id = aoai_connection[\"id\"]\n",
    "\n",
    "print(f\"Azure OpenAI connection created or retrieved successfully: {aoai_connection_id}\")"
   ]
  },
  {
   "cell_type": "markdown",
   "metadata": {},
   "source": [
    "To use the Azure OpenAI `text-embedding-ada-002` model for embedding generation, ensure the model has been deployed and is ready for inference. [Follow these instructions](https://learn.microsoft.com/azure/cognitive-services/openai/how-to/create-resource?pivots=web-portal#deploy-a-model) to deploy the embedding model in your Azure OpenAI resource.\n",
    "\n",
    "Once deployed, obtain the credentials for the text-embedding-ada-002 model and save them in your `config.json` file. This is necessary for the following code to execute successfully."
   ]
  },
  {
   "cell_type": "markdown",
   "metadata": {},
   "source": [
    "Ensure that the `config.json` file includes the appropriate keys:\n",
    "\n",
    "- `AZURE_OPENAI_EMBEDDING_MODEL`: Name of the Azure OpenAI embedding model.\n",
    "- `AZURE_OPENAI_EMBEDING_DEPLOYMENT`: Deployment name for the embedding model.\n",
    "\n",
    "Finally we will combine the deployment and model information into a uri form which the AzureML embeddings components expect as input."
   ]
  },
  {
   "cell_type": "code",
   "execution_count": null,
   "metadata": {
    "gather": {
     "logged": 1749229801742
    }
   },
   "outputs": [],
   "source": [
    "aoai_embedding_model_name = \"text-embedding-ada-002\" # creds[\"AZURE_OPENAI_EMBEDDING_MODEL\"]\n",
    "aoai_embedding_deployment_name = \"test-moadel-openai-12345\" # creds[\"AZURE_OPENAI_EMBEDING_DEPLOYMENT\"]\n",
    "embeddings_model_uri = f\"azure_open_ai://deployment/{aoai_embedding_deployment_name}/model/{aoai_embedding_model_name}\"\n",
    "print(f\"Embedding Model URI: {embeddings_model_uri}\")\n",
    "#https://test-moadel-openai-12345.openai.azure.com/\n",
    "embeddings_model_url=\"https://test-moadel-openai-12345.openai.azure.com/openai/deployments/text-embedding-ada-002/embeddings?api-version=2023-05-15\""
   ]
  },
  {
   "attachments": {},
   "cell_type": "markdown",
   "metadata": {},
   "source": [
    "#### HuggingFace"
   ]
  },
  {
   "cell_type": "code",
   "execution_count": null,
   "metadata": {
    "gather": {
     "logged": 1749229801767
    }
   },
   "outputs": [],
   "source": [
    "embeddings_model_uri = \"hugging_face://model/sentence-transformers/___________\"   #Fill the blank with embedding model"
   ]
  },
  {
   "attachments": {},
   "cell_type": "markdown",
   "metadata": {},
   "source": [
    "## **5. Setup Pipeline to process data into Index**"
   ]
  },
  {
   "cell_type": "markdown",
   "metadata": {},
   "source": [
    "### **Define Pipeline Components**"
   ]
  },
  {
   "cell_type": "code",
   "execution_count": null,
   "metadata": {
    "gather": {
     "logged": 1749229801793
    },
    "jupyter": {
     "outputs_hidden": false,
     "source_hidden": false
    },
    "nteract": {
     "transient": {
      "deleting": false
     }
    }
   },
   "outputs": [],
   "source": [
    "\n",
    "ml_registry = MLClient(credential=DefaultAzureCredential(), registry_name=\"azureml\")\n",
    "\n",
    "# Retrieve components for processing data, generating embeddings, and creating the FAISS index\n",
    "crack_and_chunk_component = ml_registry.components.get(\n",
    "    \"llm_rag_crack_and_chunk\", label=\"latest\"\n",
    ")\n",
    "generate_embeddings_component = ml_registry.components.get(\n",
    "    \"llm_rag_generate_embeddings\", label=\"latest\"\n",
    ")\n",
    "create_faiss_index_component = ml_registry.components.get(\n",
    "    \"llm_rag_create_faiss_index\", label=\"latest\"\n",
    ")\n",
    "register_mlindex_component = ml_registry.components.get(\n",
    "    \"llm_rag_register_mlindex_asset\", label=\"latest\"\n",
    ")\n"
   ]
  },
  {
   "cell_type": "markdown",
   "metadata": {},
   "source": [
    "### **Build the AzureML Pipeline**"
   ]
  },
  {
   "cell_type": "code",
   "execution_count": null,
   "metadata": {
    "gather": {
     "logged": 1749229801820
    }
   },
   "outputs": [],
   "source": [
    "from azure.ai.ml import Input, Output\n",
    "from azure.ai.ml.dsl import pipeline\n",
    "from azure.ai.ml.entities._job.pipeline._io import PipelineInput\n",
    "from typing import Optional"
   ]
  },
  {
   "cell_type": "code",
   "execution_count": null,
   "metadata": {
    "gather": {
     "logged": 1749229801845
    }
   },
   "outputs": [],
   "source": [
    "# Utility function for automatic compute configuration\n",
    "def use_automatic_compute(component, instance_count=1, instance_type=\"Standard_NC4as_T4_v3\"):\n",
    "    \"\"\"Configure a component to use automatic compute.\"\"\"\n",
    "    component.set_resources(\n",
    "        instance_count=instance_count,\n",
    "        instance_type=instance_type,\n",
    "        properties={\"compute_specification\": {\"automatic\": True}},\n",
    "    )\n",
    "    return component\n",
    "\n",
    "\n",
    "# Utility function to check if optional pipeline inputs are provided\n",
    "def optional_pipeline_input_provided(input: Optional[PipelineInput]):\n",
    "    \"\"\"Check if optional pipeline inputs are provided.\"\"\"\n",
    "    return input is not None and input._data is not None"
   ]
  },
  {
   "cell_type": "code",
   "execution_count": null,
   "metadata": {
    "gather": {
     "logged": 1749229801872
    }
   },
   "outputs": [],
   "source": [
    "@pipeline(default_compute=\"tconn\")    #Fill the blank with name of the pipeline and compute\n",
    "def diagnosismanuals_to_faiss(\n",
    "    data_asset_path: str,\n",
    "    embeddings_model: str,\n",
    "    asset_name: str,\n",
    "    chunk_size: int = 1024,    #Provide the chink size \n",
    "    data_source_glob: str = None,\n",
    "    document_path_replacement_regex: str = None,\n",
    "    aoai_connection_id=None,\n",
    "    embeddings_container=None,\n",
    "):\n",
    "    \"\"\"Pipeline to process medical diagnosis manuals and create a FAISS vector index for knowledge retrieval.\"\"\"\n",
    "    \n",
    "    # Step 1: Chunk data into smaller pieces\n",
    "    crack_and_chunk = crack_and_chunk_component(\n",
    "        input_data=Input(type=\"uri_folder\", path=data_asset_path),  # Input data asset and fill the blank with proper type \n",
    "        input_glob=data_source_glob,\n",
    "        chunk_size=chunk_size,\n",
    "        document_path_replacement_regex=document_path_replacement_regex,\n",
    "    )\n",
    "    use_automatic_compute(crack_and_chunk)  # Apply compute configuration\n",
    "\n",
    "    # Step 2: Generate embeddings for the data chunks\n",
    "    generate_embeddings = generate_embeddings_component(\n",
    "        chunks_source=crack_and_chunk.outputs.output_chunks,\n",
    "        embeddings_container=embeddings_container,\n",
    "        embeddings_model=embeddings_model,\n",
    "    )\n",
    "    use_automatic_compute(generate_embeddings)  # Apply compute configuration\n",
    "\n",
    "    # Step 3: Create a FAISS vector index from embeddings\n",
    "    create_faiss_index = create_faiss_index_component(\n",
    "        embeddings=generate_embeddings.outputs.embeddings,    #Fill the balnk with proper function\n",
    "    )\n",
    "    use_automatic_compute(create_faiss_index)  # Apply compute configuration\n",
    "\n",
    "    # Step 4: Register the FAISS index as an MLIndex asset\n",
    "    register_mlindex = register_mlindex_component(\n",
    "        storage_uri=create_faiss_index.outputs.index,    #Fill the balnk with proper function\n",
    "        asset_name=asset_name\n",
    "    )\n",
    "    use_automatic_compute(register_mlindex) # Apply compute configuration\n",
    "    \n",
    "    return {\n",
    "        \"mlindex_asset_uri\": create_faiss_index.outputs.index,\n",
    "        \"mlindex_asset_id\": register_mlindex.outputs.asset_id,\n",
    "    }"
   ]
  },
  {
   "cell_type": "markdown",
   "metadata": {},
   "source": [
    "## **6.Submit the Pipeline**"
   ]
  },
  {
   "cell_type": "markdown",
   "metadata": {},
   "source": [
    "This section covers how to instantiate the AzureML pipeline, configure its inputs, and submit it for execution. The pipeline processes the data, generates embeddings, creates a FAISS-based vector index, and registers the output as an AzureML asset."
   ]
  },
  {
   "cell_type": "markdown",
   "metadata": {},
   "source": [
    "#### **Note**\n",
    "- When setting up the FAISS index asset in the pipeline, it is crucial to maintain a separate asset name for each embedding model used. This practice ensures that the FAISS index assets created with different models, such as HuggingFace or OpenAI embeddings, are clearly distinguished and managed independently. \n",
    "- The reason for this separation is to avoid any confusion or conflicts when downloading and using the FAISS index later in the pipeline. Each embedding model generates unique vector representations, and mismatches between the index and the model used for retrieval can lead to dimension mismatch errors or incorrect results. By assigning distinct asset names for each model, you can ensure the correct FAISS index is used for vector-based similarity searches, enabling a seamless and error-free workflow."
   ]
  },
  {
   "cell_type": "code",
   "execution_count": null,
   "metadata": {
    "gather": {
     "logged": 1749229801914
    }
   },
   "outputs": [],
   "source": [
    "# Define the asset name and data source glob pattern\n",
    "asset_name = \"finsights_faiss\"  # Name for the FAISS index asset\n",
    "data_source_glob = \"**/*.pdf\"  # Pattern to match input data files"
   ]
  },
  {
   "cell_type": "code",
   "execution_count": null,
   "metadata": {
    "gather": {
     "logged": 1749229801947
    },
    "jupyter": {
     "outputs_hidden": false,
     "source_hidden": false
    },
    "nteract": {
     "transient": {
      "deleting": false
     }
    }
   },
   "outputs": [],
   "source": [
    "# Get the input data asset path from the workspace datastore\n",
    "datastore_path = ml_client.data.get(data_asset_name, version=\"1\").path\n",
    "print(f\"Datastore path: {datastore_path}\")"
   ]
  },
  {
   "cell_type": "code",
   "execution_count": null,
   "metadata": {
    "gather": {
     "logged": 1749229801983
    }
   },
   "outputs": [],
   "source": [
    "# Create the pipeline job by calling the defined pipeline function\n",
    "pipeline_job = diagnosismanuals_to_faiss(\n",
    "    embeddings_model=embeddings_model_uri,  # URI of the embeddings model\n",
    "    #aoai_connection_id=aoai_connection_id,  # Connection ID for Azure OpenAI (optional)\n",
    "    embeddings_container=Input(\n",
    "        type=\"uri_folder\",\n",
    "        path=f\"azureml://datastores/workspaceblobstore/paths/embeddings/{asset_name}\"    \n",
    "    ),  # Path for storing generated embeddings\n",
    "    data_asset_path=Input(\n",
    "        type=\"uri_folder\",\n",
    "        path=datastore_path\n",
    "    ),  # Input data asset path\n",
    "    chunk_size=1024,  # Size of chunks for processing\n",
    "    data_source_glob=data_source_glob,  # Glob pattern for input files\n",
    "    asset_name=asset_name  # Name of the MLIndex asset\n",
    ")"
   ]
  },
  {
   "cell_type": "code",
   "execution_count": null,
   "metadata": {
    "gather": {
     "logged": 1749229802020
    }
   },
   "outputs": [],
   "source": [
    "# Add properties for better indexing and artifact tracking in the AzureML UI\n",
    "pipeline_job.properties[\"azureml.mlIndexAssetName\"] = asset_name\n",
    "pipeline_job.properties[\"azureml.mlIndexAssetKind\"] = \"faiss\"\n",
    "pipeline_job.properties[\"azureml.mlIndexAssetSource\"] = \"Data asset\""
   ]
  },
  {
   "cell_type": "code",
   "execution_count": null,
   "metadata": {
    "gather": {
     "logged": 1749229802065
    }
   },
   "outputs": [],
   "source": [
    "# Submit the pipeline job for execution\n",
    "submitted_pipeline = ml_client.jobs.create_or_update(pipeline_job)\n",
    "print(f\"Pipeline submitted successfully! Job ID: {submitted_pipeline.id}\")"
   ]
  },
  {
   "cell_type": "code",
   "execution_count": null,
   "metadata": {
    "gather": {
     "logged": 1749229802105
    }
   },
   "outputs": [],
   "source": [
    "#!pip install numpy --no-binary :all:\n",
    "!pip uninstall numpy --y\n",
    "!pip uninstall pandas --y\n",
    "!pip install numpy==1.26.4\n",
    "!pip install pandas==2.2.0"
   ]
  },
  {
   "cell_type": "code",
   "execution_count": null,
   "metadata": {
    "gather": {
     "logged": 1749229802132
    }
   },
   "outputs": [],
   "source": [
    "# Stream the pipeline job logs for real-time monitoring\n",
    "ml_client.jobs.stream(submitted_pipeline.name)"
   ]
  },
  {
   "cell_type": "markdown",
   "metadata": {
    "nteract": {
     "transient": {
      "deleting": false
     }
    }
   },
   "source": [
    "# **Information Retrieval and Response Generation Using LangChain-FAISS and Azure OpenAI**"
   ]
  },
  {
   "cell_type": "markdown",
   "metadata": {},
   "source": [
    "## **1.Installing Required Libraries**"
   ]
  },
  {
   "cell_type": "code",
   "execution_count": null,
   "metadata": {
    "gather": {
     "logged": 1749229802162
    }
   },
   "outputs": [],
   "source": [
    "# Install the required LangChain and HuggingFace libraries\n",
    "%pip install -U langchain-community\n",
    "%pip install -U langchain-huggingface\n",
    "%pip install -U langchain-openai"
   ]
  },
  {
   "cell_type": "markdown",
   "metadata": {},
   "source": [
    "## **2. Setting Up Data Retrieval**"
   ]
  },
  {
   "cell_type": "markdown",
   "metadata": {},
   "source": [
    "### **Downloading and Setting Up FAISS Index Assets**"
   ]
  },
  {
   "cell_type": "code",
   "execution_count": null,
   "metadata": {
    "gather": {
     "logged": 1749229802192
    },
    "jupyter": {
     "outputs_hidden": false,
     "source_hidden": false
    },
    "nteract": {
     "transient": {
      "deleting": false
     }
    }
   },
   "outputs": [],
   "source": [
    "# Import necessary utilities for artifact retrieval\n",
    "import azure.ai.ml._artifacts._artifact_utilities as artifact_utils\n",
    "\n",
    "# Retrieve the path to the latest FAISS index asset from Azure ML\n",
    "data_info = ml_client.data.get(name=asset_name, label=\"_______________\").path\n",
    "\n",
    "# Download the FAISS index asset to a local directory\n",
    "artifact_utils.download_artifact_from_aml_uri(\n",
    "    uri=data_info,\n",
    "    destination=\"_______________________\",\n",
    "    datastore_operation=ml_client.____________\n",
    ")\n",
    "\n",
    "# The FAISS index asset will be used for vector-based similarity search."
   ]
  },
  {
   "cell_type": "markdown",
   "metadata": {},
   "source": [
    "## **3. Loading the FAISS Index**"
   ]
  },
  {
   "cell_type": "markdown",
   "metadata": {},
   "source": [
    "### **Loading the FAISS Index and Preparing the Retriever**\n",
    "\n",
    "We load the FAISS index from the downloaded files and connect it to an embedding model. This embedding model ensures that queries are converted into vector space to match the stored documents effectively."
   ]
  },
  {
   "cell_type": "markdown",
   "metadata": {},
   "source": [
    "### **Note:**\n",
    "When loading the FAISS index and setting up the retriever, it is crucial to use the same embedding model that was used during the creation of the FAISS index. This ensures that the dimensionality of the embeddings produced by the query matches the dimensionality of the embeddings stored in the FAISS index.\n",
    "\n",
    "If a different embedding model is used between these two steps, a dimension mismatch will occur, leading to errors in retrieving relevant documents or performing similarity searches."
   ]
  },
  {
   "cell_type": "code",
   "execution_count": null,
   "metadata": {
    "gather": {
     "logged": 1749229802217
    }
   },
   "outputs": [],
   "source": [
    "# Path to the directory containing FAISS index files\n",
    "index_folder_path = \"___________________\""
   ]
  },
  {
   "cell_type": "code",
   "execution_count": null,
   "metadata": {
    "gather": {
     "logged": 1749229802244
    }
   },
   "outputs": [],
   "source": [
    "from langchain_huggingface import HuggingFaceEmbeddings\n",
    "\n",
    "# Specify the embedding model used during FAISS index creation\n",
    "embedding_model_name = \"sentence-transformers/all-mpnet-base-v2\"\n",
    "embedding_model = HuggingFaceEmbeddings(model_name=embedding_model_name)"
   ]
  },
  {
   "cell_type": "code",
   "execution_count": null,
   "metadata": {
    "gather": {
     "logged": 1749229802272
    }
   },
   "outputs": [],
   "source": [
    "# from langchain_openai import AzureOpenAIEmbeddings\n",
    "\n",
    "# # Specify the embedding model used during FAISS index creation\n",
    "# embedding_model = AzureOpenAIEmbeddings(\n",
    "#     model=creds[\"AZURE_OPENAI_EMBEDDING_MODEL\"],\n",
    "#     azure_endpoint= creds[\"AZURE_OPENAI_ENDPOINT\"],\n",
    "#     api_key= creds[\"AZURE_OPENAI_KEY\"],\n",
    "#     openai_api_version=creds[\"AZURE_OPENAI_APIVERSION\"]\n",
    "# )"
   ]
  },
  {
   "cell_type": "code",
   "execution_count": null,
   "metadata": {
    "gather": {
     "logged": 1749229802302
    }
   },
   "outputs": [],
   "source": [
    "from langchain.vectorstores import FAISS\n",
    "\n",
    "# Load the FAISS index and associate it with the embedding model\n",
    "retriever = FAISS.load_local(\n",
    "    folder_path=index_folder_path, \n",
    "    embeddings=embedding_model, \n",
    "    allow_dangerous_deserialization=True  # Acknowledge the source of the data for safe loading\n",
    ")\n",
    "\n",
    "# The retriever is now ready to perform similarity searches."
   ]
  },
  {
   "cell_type": "markdown",
   "metadata": {},
   "source": [
    "## **4. Performing a Similarity Search**"
   ]
  },
  {
   "cell_type": "code",
   "execution_count": null,
   "metadata": {
    "gather": {
     "logged": 1749229802328
    },
    "jupyter": {
     "outputs_hidden": false,
     "source_hidden": false
    },
    "nteract": {
     "transient": {
      "deleting": false
     }
    }
   },
   "outputs": [],
   "source": [
    "# Define a query to test the retriever - you can feel free to pick any disease or medical condition for this \n",
    "\n",
    "query = \"_____________________________________________\"\n",
    "\n",
    "# Retrieve the top 3 most relevant documents\n",
    "results = retriever.____________________(query, k=_______________)\n",
    "\n",
    "# Display the results\n",
    "for doc in results:\n",
    "    print(f\"Document: {doc.page_content}\\nMetadata: {doc.metadata}\")\n",
    "\n",
    "# This step helps validate that the retriever is functioning as expected."
   ]
  },
  {
   "cell_type": "markdown",
   "metadata": {
    "nteract": {
     "transient": {
      "deleting": false
     }
    }
   },
   "source": [
    "## **5: Creating the System and User Prompt Templates**"
   ]
  },
  {
   "cell_type": "code",
   "execution_count": null,
   "metadata": {
    "gather": {
     "logged": 1749229802358
    },
    "jupyter": {
     "outputs_hidden": false,
     "source_hidden": false
    },
    "nteract": {
     "transient": {
      "deleting": false
     }
    }
   },
   "outputs": [],
   "source": [
    "# Define the system prompt for the Azure OpenAI model\n",
    "qna_system_message = \"\"\"\n",
    "    #Write you are message here\n",
    "\"\"\"\n",
    "# Define the user message template\n",
    "qna_user_message_template = \"\"\"\n",
    "###Context\n",
    "\n",
    "#Wrie you are context here\n",
    "\n",
    "{context}  \n",
    "\n",
    "###Question  \n",
    "{question}  \n",
    "\"\"\""
   ]
  },
  {
   "cell_type": "markdown",
   "metadata": {
    "nteract": {
     "transient": {
      "deleting": false
     }
    }
   },
   "source": [
    "## **6. Generating the Response**"
   ]
  },
  {
   "cell_type": "code",
   "execution_count": null,
   "metadata": {
    "gather": {
     "logged": 1749229802382
    },
    "jupyter": {
     "outputs_hidden": false,
     "source_hidden": false
    },
    "nteract": {
     "transient": {
      "deleting": false
     }
    }
   },
   "outputs": [],
   "source": [
    "# Install the rquired packages\n",
    "#!pip install openai==1.55.3 tiktoken==0.6 session-info --quiet"
   ]
  },
  {
   "cell_type": "code",
   "execution_count": null,
   "metadata": {
    "gather": {
     "logged": 1749229802405
    },
    "jupyter": {
     "outputs_hidden": false,
     "source_hidden": false
    },
    "nteract": {
     "transient": {
      "deleting": false
     }
    }
   },
   "outputs": [],
   "source": [
    "# Import required libraries\n",
    "import json\n",
    "import tiktoken\n",
    "import pandas as pd\n",
    "from openai import AzureOpenAI"
   ]
  },
  {
   "cell_type": "code",
   "execution_count": null,
   "metadata": {
    "gather": {
     "logged": 1749229802433
    },
    "jupyter": {
     "outputs_hidden": false,
     "source_hidden": false
    },
    "nteract": {
     "transient": {
      "deleting": false
     }
    }
   },
   "outputs": [],
   "source": [
    "# Load Azure OpenAI credentials\n",
    "with open('_____________', 'r') as az_creds:\n",
    "    data = az_creds._________()\n",
    "\n",
    "creds = json._________(data)"
   ]
  },
  {
   "cell_type": "code",
   "execution_count": null,
   "metadata": {
    "gather": {
     "logged": 1749229802463
    },
    "jupyter": {
     "outputs_hidden": false,
     "source_hidden": false
    },
    "nteract": {
     "transient": {
      "deleting": false
     }
    }
   },
   "outputs": [],
   "source": [
    "# Initialize the Azure OpenAI client\n",
    "client = AzureOpenAI(\n",
    "    azure_endpoint=___________,\n",
    "    api_key=____________,\n",
    "    api_version=______________\n",
    ")"
   ]
  },
  {
   "cell_type": "code",
   "execution_count": null,
   "metadata": {
    "gather": {
     "logged": 1749229802496
    },
    "jupyter": {
     "outputs_hidden": false,
     "source_hidden": false
    },
    "nteract": {
     "transient": {
      "deleting": false
     }
    }
   },
   "outputs": [],
   "source": [
    "def generate_rag_response(user_input):\n",
    "    # Retrieve relevant document chunks\n",
    "    relevant_document_chunks = retriever.______________(user_input, k=_____________)\n",
    "    context_list = [d.__________ for d in relevant_document_chunks]\n",
    "\n",
    "    # Combine document chunks into a single context\n",
    "    context_for_query = \". \".join(context_list)\n",
    "\n",
    "    # Compose the prompt\n",
    "    prompt = [\n",
    "        {'role': '__________', 'content': qna_system_message},\n",
    "        {'role': '__________', 'content': qna_user_message_template.format(\n",
    "            context=_______,\n",
    "            question=___________\n",
    "            )\n",
    "        }\n",
    "    ]\n",
    "\n",
    "    # Generate the response using Azure OpenAI\n",
    "    try:\n",
    "        response = client.chat.completions.create(\n",
    "            model=creds[\"CHATGPT_MODEL\"],\n",
    "            messages=prompt,\n",
    "            temperature=___________\n",
    "        )\n",
    "\n",
    "        # Extract and print the model's response\n",
    "        response = response.choices[____________].message.content.strip()\n",
    "    except Exception as e:\n",
    "        response = f'_____________________: \\n {e}'\n",
    "\n",
    "\n",
    "    print(response)"
   ]
  },
  {
   "cell_type": "markdown",
   "metadata": {},
   "source": [
    "#### Question 1: What is the protocol for managing sepsis in a critical care unit?"
   ]
  },
  {
   "cell_type": "code",
   "execution_count": null,
   "metadata": {
    "gather": {
     "logged": 1749229802536
    },
    "jupyter": {
     "outputs_hidden": false,
     "source_hidden": false
    },
    "nteract": {
     "transient": {
      "deleting": false
     }
    }
   },
   "outputs": [],
   "source": [
    "user_input = \"__________________________________\"    # Enter the question to be answered by the system here \n",
    "generate_rag_response(user_input)"
   ]
  },
  {
   "cell_type": "markdown",
   "metadata": {},
   "source": [
    "#### Question 2: What are the common symptoms for appendicitis, and can it be cured via medicine? If not, what surgical procedure should be followed to treat it?"
   ]
  },
  {
   "cell_type": "code",
   "execution_count": null,
   "metadata": {
    "gather": {
     "logged": 1749229802563
    }
   },
   "outputs": [],
   "source": [
    "user_input = \"__________________________________\"   # Enter the question to be answered by the system here \n",
    "generate_rag_response(user_input)"
   ]
  },
  {
   "cell_type": "markdown",
   "metadata": {},
   "source": [
    "#### Question 3: What are the effective treatments or solutions for addressing sudden patchy hair loss, commonly seen as localized bald spots on the scalp, and what could be the possible causes behind it?"
   ]
  },
  {
   "cell_type": "code",
   "execution_count": null,
   "metadata": {
    "gather": {
     "logged": 1749229802590
    }
   },
   "outputs": [],
   "source": [
    "user_input = \"__________________________________\"   # Enter the question to be answered by the system here \n",
    "generate_rag_response(user_input)"
   ]
  },
  {
   "cell_type": "markdown",
   "metadata": {},
   "source": [
    "#### Question 4:  What treatments are recommended for a person who has sustained a physical injury to brain tissue, resulting in temporary or permanent impairment of brain function?"
   ]
  },
  {
   "cell_type": "code",
   "execution_count": null,
   "metadata": {
    "gather": {
     "logged": 1749229802617
    }
   },
   "outputs": [],
   "source": [
    "user_input = \"__________________________________\"   # Enter the question to be answered by the system here \n",
    "generate_rag_response(user_input)"
   ]
  },
  {
   "cell_type": "markdown",
   "metadata": {},
   "source": [
    "#### Question 5: What are the necessary precautions and treatment steps for a person who has fractured their leg during a hiking trip, and what should be considered for their care and recovery?"
   ]
  },
  {
   "cell_type": "code",
   "execution_count": null,
   "metadata": {
    "gather": {
     "logged": 1749229802642
    }
   },
   "outputs": [],
   "source": [
    "user_input = \"__________________________________\"   # Enter the question to be answered by the system here \n",
    "generate_rag_response(user_input)"
   ]
  },
  {
   "cell_type": "markdown",
   "metadata": {},
   "source": [
    "#### Power Ahead!"
   ]
  }
 ],
 "metadata": {
  "kernel_info": {
   "name": "python310-sdkv2"
  },
  "kernelspec": {
   "display_name": "Python 3.10 - SDK v2",
   "language": "python",
   "name": "python310-sdkv2"
  },
  "language_info": {
   "codemirror_mode": {
    "name": "ipython",
    "version": 3
   },
   "file_extension": ".py",
   "mimetype": "text/x-python",
   "name": "python",
   "nbconvert_exporter": "python",
   "pygments_lexer": "ipython3",
   "version": "3.10.16"
  },
  "microsoft": {
   "host": {
    "AzureML": {
     "notebookHasBeenCompleted": true
    }
   },
   "ms_spell_check": {
    "ms_spell_check_language": "en"
   }
  },
  "nteract": {
   "version": "nteract-front-end@1.0.0"
  }
 },
 "nbformat": 4,
 "nbformat_minor": 2
}
